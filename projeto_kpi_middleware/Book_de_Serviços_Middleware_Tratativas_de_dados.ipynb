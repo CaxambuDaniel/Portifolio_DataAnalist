{
  "nbformat": 4,
  "nbformat_minor": 0,
  "metadata": {
    "colab": {
      "name": "Book_de_Serviços_Middleware_Tratativas_de_dados.ipynb",
      "provenance": [],
      "collapsed_sections": [
        "QtozJAkBxY34",
        "bCMsnJiksOTt",
        "0S71G3ud3vut",
        "P1v58mUV67I3",
        "-brBM6p-_Oa7",
        "qOmcxKiVuxYb",
        "OqyDvdMhsWqG",
        "PWjrp-V8LOUv",
        "OdnzBqXi6hG1",
        "Qhtwd6SXLof8",
        "gXISlZ7qTjpR",
        "sfDDyoAUpfsU",
        "cVC-ojHyp9WH",
        "bMXAGFNSrMc8",
        "EbQ6Wmqbw6zK",
        "8iK9D83CxmFT"
      ],
      "toc_visible": true,
      "private_outputs": true
    },
    "kernelspec": {
      "name": "python3",
      "display_name": "Python 3"
    }
  },
  "cells": [
    {
      "cell_type": "markdown",
      "metadata": {
        "id": "i63HICwXkowh"
      },
      "source": [
        "***\n",
        "# <font color=black size=10>Book de Serviços - Middleware</font>\n",
        "***"
      ]
    },
    {
      "cell_type": "markdown",
      "metadata": {
        "id": "fEmjGxTbk7w-"
      },
      "source": [
        "# <font color=black>1 Introdução</font>\n",
        "***\n",
        "\n",
        "O intuito deste documento é preparar o dataset para sua utilização na geração de indicadores que nos possibilitarão gerar uma ampla melhoria na forma que os chamados são abertos na Orizon.\n",
        "\n",
        "Com esses indicadores em mãos saberemos sem sombra de dúvidas, quais são os maiores problemas, o que nos possibilitará um ataque direto à sua causa raiz. Tratando assim o problema em definitivo, tornando obsoleta a necessidade de retrabalhar."
      ]
    },
    {
      "cell_type": "markdown",
      "metadata": {
        "id": "6OgpviY8nzsX"
      },
      "source": [
        "### Fonte dos Dados\n",
        "\n",
        "Cherwell ITSM - extração mensal de todas as demandas enviadas para equipe de suporte a aplicação - Middleware\n"
      ]
    },
    {
      "cell_type": "markdown",
      "metadata": {
        "id": "DQWzS2f8rM5r"
      },
      "source": [
        "### <font color='red'>Objetivo</font>\n",
        "***\n",
        "\n",
        "\n",
        "> 1. Alterar o nome dos campos para que eles se tornem mais legíveis.\n",
        "> 2. Eliminar os registros onde os campos <b>equipe_solicitante</b> e <b>cliente</b> são missings.\n",
        "> 3. Agrupar valores diferentes para a mesma <b>equipe_solicitante</b>\n",
        "> 4. Gerar um documento/playbook que facilite a tratativa destas informações,atendendo aos objetivos acima sem retrabalho, apenas clicando ctrl + f9:\n",
        "![img1.png](data:image/png;base64,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)\n",
        "\n"
      ]
    },
    {
      "cell_type": "markdown",
      "metadata": {
        "id": "QtozJAkBxY34"
      },
      "source": [
        "## <font color=black>1.1 Importando Libs necessárias para análise  e ajustando o dataset</font>\n",
        "***\n",
        "Lib(s) utilizadas:\n",
        "\n",
        "https://pandas.pydata.org/\n",
        "\n",
        "Após a extração do relatório do cherwell, ele deve ser disponibilizado no diretório do google drive, mantendo seu nome (base_middleware.csv):\n",
        "\n",
        "/content/drive/MyDrive/Data_Science/Dataset_baseMiddleware/base_middleware.csv"
      ]
    },
    {
      "cell_type": "code",
      "metadata": {
        "id": "u4ZrkeJsuyMw"
      },
      "source": [
        "import pandas as pd "
      ],
      "execution_count": null,
      "outputs": []
    },
    {
      "cell_type": "code",
      "metadata": {
        "id": "GgC8YiovACYj"
      },
      "source": [
        "from google.colab import drive\n",
        "drive.mount('/content/drive')"
      ],
      "execution_count": null,
      "outputs": []
    },
    {
      "cell_type": "code",
      "metadata": {
        "id": "yYzc5rhryBCT"
      },
      "source": [
        "dados = pd.read_csv('/content/drive/MyDrive/Data_Science/Dataset_baseMiddleware/base_middleware.csv')\n",
        "dados.head()"
      ],
      "execution_count": null,
      "outputs": []
    },
    {
      "cell_type": "markdown",
      "metadata": {
        "id": "bCMsnJiksOTt"
      },
      "source": [
        "## <font color=black>1.2 Alteração dos nomes das tabelas </font>\n",
        "***\n",
        "\n",
        "Ao extrair os dados do Cherwell, alguns campos possuem uma nomenclatura técnica, as vezes até confusa. isso pode dificultar a compreensão dos dados.\n",
        "\n",
        "Pensando nisso, este tópico trabalhará justamente nesse ponto. A idéia é facilitar a compreensão do que será mostrado.\n",
        "\n",
        "\n",
        "|Campos Atualizados|\n",
        "|---|\n",
        "|id_solicitacao|\n",
        "|assunto|\n",
        "|tipo_solicitacao|\n",
        "|cliente|\n",
        "|categoria|                 \n",
        "|subcategoria|\n",
        "|produto|\n",
        "|equipe_solicitante|\n",
        "|equipe_proprietaria|\n",
        "|status|\n",
        "|dt_criacao|\n",
        "|dt_fechamento|\n",
        "|prazo_resolucao|\n",
        "|priorizacao|\n",
        "|severidade|\n",
        "|descrição|\n",
        "\n"
      ]
    },
    {
      "cell_type": "code",
      "metadata": {
        "id": "XqY7qkVikbn_"
      },
      "source": [
        "dados.columns = ['id_solicitacao',\n",
        "\t\t\t\t\t\t\t\t'assunto',\n",
        "\t\t\t\t\t\t\t\t'tipo_solicitacao',\n",
        "\t\t\t\t\t\t\t\t'cliente',\n",
        "\t\t\t\t\t\t\t\t'categoria',\n",
        "\t\t\t\t\t\t\t\t'subcategoria',\n",
        "\t\t\t\t\t\t\t\t'produto',\n",
        "\t\t\t\t\t\t\t\t'equipe_solicitante',\n",
        "\t\t\t\t\t\t\t\t'equipe_proprietaria',\n",
        "\t\t\t\t\t\t\t\t'status',\n",
        "\t\t\t\t\t\t\t\t'dt_criacao',\n",
        "\t\t\t\t\t\t\t\t'dt_fechamento',\n",
        "\t\t\t\t\t\t\t\t'prazo_resolucao',\n",
        "\t\t\t\t\t\t\t\t'priorizacao',\n",
        "\t\t\t\t\t\t\t\t'severidade',\n",
        "                'descrição']             "
      ],
      "execution_count": null,
      "outputs": []
    },
    {
      "cell_type": "markdown",
      "metadata": {
        "id": "0IDSt0iPVOpl"
      },
      "source": [
        "## <font color=black>1.3 Criação da função que realizara o preenchimento de campos</font>\n",
        "***\n",
        "\n",
        "Ao analisar o dataset, entendemos que havia necessidade de tratativa de algumas informações, preenchimento ou correção de alguns campos.\n",
        "\n",
        "pensando nisso, definimos esta função que tem como intuito facilitar sua alteração\n"
      ]
    },
    {
      "cell_type": "code",
      "metadata": {
        "id": "F8DlJqfEycWt"
      },
      "source": [
        "# #Função que realiza o preenchimento de um determinado campo inserido como parametro   \n",
        "# class PreencheCampos:\n",
        "#   def __init__(self,campo,item,chamados):\n",
        "#     self._campo = campo\n",
        "#     self._item = item\n",
        "#     self._chamados = chamados \n",
        "        \n",
        "\n",
        "#   def preenchimento(campo,item,chamados):\n",
        "#     for id in chamados:\n",
        "#       dados[campo].loc[dados['id_solicitacao'] == id] = item.upper()  \n",
        "\n",
        "    "
      ],
      "execution_count": null,
      "outputs": []
    },
    {
      "cell_type": "markdown",
      "metadata": {
        "id": "PkcPWxVCsDGB"
      },
      "source": [
        "# <font color=black>2 Tratativa de Missings</font>\n",
        "***\n",
        "Pra que possamos viabilizar a utilização do dataset, precisamos remover todo o tipo de 'sujeira' que possa causar interferência na geração e análise dos indicadores.\n",
        "\n",
        "Para isso, verificaremos no dataset informações onde o campo não foi preenchido (null) e excluiremos esses dados, a princípio nos campos  <b>equipe_solicitante</b>, <b>produto</b> e <b>cliente</b>.\n"
      ]
    },
    {
      "cell_type": "markdown",
      "metadata": {
        "id": "0S71G3ud3vut"
      },
      "source": [
        "## <font color=black>2.1 Verificando quantidade de missings no dataset </font>\n",
        "***\n",
        "\n",
        "Antes de mais nada, precisamos verificar a quantidade de informações nulas no dataset"
      ]
    },
    {
      "cell_type": "code",
      "metadata": {
        "id": "2JDSVzoKhpug"
      },
      "source": [
        "#mostra, campo a campo, a quantidade de informações não nulas no dataset\n",
        "dados.info()\n",
        "\n"
      ],
      "execution_count": null,
      "outputs": []
    },
    {
      "cell_type": "markdown",
      "metadata": {
        "id": "P1v58mUV67I3"
      },
      "source": [
        "## <font color=black>2.2 Excluindo missings no campo <b>equipe_solicitante</b></font>\n",
        "***"
      ]
    },
    {
      "cell_type": "code",
      "metadata": {
        "id": "_1KatOp0kr4K"
      },
      "source": [
        "#seleção de informações onde a equipe solicitante é nula \n",
        "selecao = (dados['equipe_solicitante'].isnull())\n",
        "\n",
        "#exclusão de dados onde a equipe solicitante é nulo \n",
        "dados = dados[~selecao]\n",
        "\n",
        "\n",
        "#######provisorio - remove chamados cancelados#######\n",
        "#cancelados = [282935,281461,271886,273863,278915,271282,277732,279176,275362,277929,281733,270101,270419,270910,271678,271699,275585,275947,276975,277732,278342,278596]\n",
        "#for id in cancelados:\n",
        "#  selecao = (dados['id_solicitacao'] == id)\n",
        "#  dados = dados[~selecao]\n"
      ],
      "execution_count": null,
      "outputs": []
    },
    {
      "cell_type": "markdown",
      "metadata": {
        "id": "-brBM6p-_Oa7"
      },
      "source": [
        "## <font color=black>2.3 Preenchendo informações nulas no campo <b>cliente</b></font>\n",
        "***"
      ]
    },
    {
      "cell_type": "markdown",
      "metadata": {
        "id": "FT2pyKG1IoiM"
      },
      "source": [
        "### <font color=black>2.3.1  <b>BRADESCO</b></font>\n",
        "***\n"
      ]
    },
    {
      "cell_type": "code",
      "metadata": {
        "id": "iykPrk0Wzdbg"
      },
      "source": [
        "PreencheCampos.preenchimento('cliente','bradesco',[289949,290652,287181,287266,287384,287843,287855,288003,288075,288536,289005,289295,289329,284776,284782,284783,284348,284349,284352,284522,283612,283616,283563,283573,282912,282837,282845,282696,282537,282391,282353,282569,267305,267456,267464,267634,267644,267648,267687,267707,267709,267818,267823,267883,267886,267976,267991,268045,268330,268333,268337,268365,268369,268388,268417,268438,268443,268479,268507,268596,268598,268614,268618,268802,268812,268823,268837,268855,268919,269015,269021,269050,269137,269138,269139,269141,269142,269143,269145,269146,269214,269215,269222,269223,269224,269225,269229,269237,269238,269241,269242,269243,269271,269284,269361,269374,269390,269402,269481,269588,269611,269643,269645,269789,269828,269944,269962,270101,270264,270306,270310,270419,270446,270478,270583,270613,270659,270702,270704,270706,270708,270712,270797,270992,271065,271328,271361,271369,271534,271559,271691,271699,271710,271714,271722,271886,271948,271949,271950,271951,271953,271954,271955,271956,272057,272280,272281,272282,272312,272580,272650,272657,272675,272676,272677,272782,272815,272951,273088,273347,273356,273380,273389,273402,273462,273494,273527,273576,273863,273956,273988,274094,274115,274139,274261,274386,274434,274453,274549,274576,274634,274648,274672,274675,274676,274932,274939,274943,274944,274947,274949,274950,274960,274972,274974,275023,275153,275179,275190,275191,275192,275194,275195,275197,275199,275201,275248,275298,275302,275315,275334,275362,275414,275504,275531,275606,275652,275672,275699,275802,275903,275947,275966,276041,276052,276053,276089,276147,276194,276266,276310,276337,276339,276348,276463,276575,276579,276662,276789,276937,276970,277032,277050,277063,277069,277119,277204,277278,277291,277332,277362,277496,277624,277643,277646,277689,277699,277788,277794,277924,277972,277979,277999,278001,278004,278008,278010,278029,278060,278064,278066,278067,278068,278069,278073,278106,278178,278214,278369,278462,278561,278588,278596,278626,278651,278846,278864,278865,278866,278915,278922,278952,278994,279121,279156,279160,279162,279164,279180,279251,279254,279256,279258,279260,279262,279264,279268,279293,279298,279356,279412,279429,279506,279519,279675,279688,279891,279909,279910,279922,279928,279930,279962,280013,280048,280079,280095,280123,280164,280168,280182,280204,280208,280209,280326,280411,280458,280562,280567,280651,280663,280782,280797,280822,280887,280909,280939,280946,281040,281234,281427,281521,281568,281574,281600,281606,281669,281700,281703,281704,281715,281723,281778,281781,281782,281881,281882,281890,281893,281895,281896,281925,281928,281990])"
      ],
      "execution_count": null,
      "outputs": []
    },
    {
      "cell_type": "markdown",
      "metadata": {
        "id": "8_FAecB4KcYk"
      },
      "source": [
        "### <font color=black>2.3.2  <b>ORIZON</b></font>\n",
        "***\n"
      ]
    },
    {
      "cell_type": "code",
      "metadata": {
        "id": "ZxRHYVD0K3ac"
      },
      "source": [
        "PreencheCampos.preenchimento('cliente','orizon',[291029,289538,289682,290451,290646,290659,290313,290456,277929,285047,285246,285368,285969,286677,287276,287476,287856,287863,287978,287996,288386,288617,288658,289283,284728,284176,284034,282928,283019,282960,282727,282727,282812,282695,282287,282381,282342,267836,267866,268116,268301,268308,268331,268490,268750,268806,269066,269079,269125,269252,269256,269520,269554,269714,269956,270068,270069,270128,270282,270475,270494,270514,270825,270923,271094,271104,271282,271317,271393,271491,271623,271678,271775,271799,271900,272490,272777,272968,273253,273416,273770,274077,274141,274413,274483,275300,275359,275371,275402,275411,275417,276191,276319,276320,277120,277271,277445,277706,277732,278052,278116,278405,278469,278820,279176,279187,279367,279402,280086,280185,281043,281760,281922])"
      ],
      "execution_count": null,
      "outputs": []
    },
    {
      "cell_type": "markdown",
      "metadata": {
        "id": "7EwkZ12KL8-U"
      },
      "source": [
        "### <font color=black>2.3.3  <b>CASSI</b></font>\n",
        "***\n"
      ]
    },
    {
      "cell_type": "code",
      "metadata": {
        "id": "LT9XESbzMEqD"
      },
      "source": [
        "PreencheCampos.preenchimento('cliente','cassi',[291155,290035,290474,290514,290515,287268,287502,287589,287870,288017,288152,288602,288630,289339,289340,284959,283646,283570,282945,282800,282851,282673,267364,267635,267666,268125,268397,268481,269009,269010,269960,270130,270313,270507,271715,271779,271808,271834,272009,272151,272153,272160,272161,272171,272182,272186,272558,272641,272703,272762,272766,273012,273020,273022,273307,273448,273979,274015,274153,274222,274547,274764,275306,275466,275621,275716,275721,276004,276028,276030,276031,276037,276740,277047,277057,277059,277065,277100,277101,277103,277104,277105,277106,277329,277449,277510,277727,277729,278015,278138,278359,278361,278427,278490,278604,278647,278771,278781,278924,278928,279120,279138,279168,279211,279212,279340,279455,279456,279475,279549,279596,279997,280030,280315,280412,280757,280791,281088,281412,281609,281711,281766,281774,281926,281932,281947,281977,282074])    "
      ],
      "execution_count": null,
      "outputs": []
    },
    {
      "cell_type": "markdown",
      "metadata": {
        "id": "bYN6vEQkMMLc"
      },
      "source": [
        "### <font color=black>2.3.4  <b>CABESP</b></font>\n",
        "***\n"
      ]
    },
    {
      "cell_type": "code",
      "metadata": {
        "id": "6jbdG2pdMayr"
      },
      "source": [
        "PreencheCampos.preenchimento('cliente','CABESP',[290674,287121,287537,287549,287864,288303,288515,288614,288643,288646,288655,288942,284765,284285,284301,283575,282706,267352,267751,267767,268113,268208,268219,268620,269273,269721,270047,270070,270217,270389,270506,270557,270569,270865,270999,271323,271337,271347,271372,271638,271640,271643,271702,271723,271999,272108,272112,272121,272224,272545,272655,272697,273133,273137,273146,273444,273595,273728,273944,274024,274384,274441,274554,274684,274748,274826,274921,274931,275326,275329,275413,275434,275660,275799,275898,276076,276189,276297,276528,276718,276918,276975,277052,277148,277205,277447,277488,277490,277619,277678,277805,277818,277874,278039,278218,278222,278397,278776,278968,279177,279248,279250,279297,279301,279838,279880,280041,280054,280274,280424,280738,280931,280942,280950,281146,281313,281572,281586,281613])  "
      ],
      "execution_count": null,
      "outputs": []
    },
    {
      "cell_type": "markdown",
      "metadata": {
        "id": "4x9Y9XQ1MfZh"
      },
      "source": [
        "### <font color=black>2.3.5  <b>LIFE EMPRESARIAL</b></font>\n",
        "***\n"
      ]
    },
    {
      "cell_type": "code",
      "metadata": {
        "id": "taEUmDCQQh6y"
      },
      "source": [
        "PreencheCampos.preenchimento('cliente','LIFE EMPRESARIAL',[290591,287237,272941,283445,277048,267859,270910,270975,271331,275506,276314] )  "
      ],
      "execution_count": null,
      "outputs": []
    },
    {
      "cell_type": "markdown",
      "metadata": {
        "id": "uHOErcSmMuVx"
      },
      "source": [
        "### <font color=black>2.3.6  <b>ALLIANZ</b></font>\n",
        "***"
      ]
    },
    {
      "cell_type": "code",
      "metadata": {
        "id": "S7mI0b8DQptc"
      },
      "source": [
        "PreencheCampos.preenchimento('cliente','ALLIANZ',[290069,282967,269820,271474,275423,275535,279139] )  "
      ],
      "execution_count": null,
      "outputs": []
    },
    {
      "cell_type": "markdown",
      "metadata": {
        "id": "dxGW3B0kM1Qb"
      },
      "source": [
        "### <font color=black>2.3.7  <b>SULAMERICA</b></font>\n",
        "***"
      ]
    },
    {
      "cell_type": "code",
      "metadata": {
        "id": "rlgg6gDLQr7t"
      },
      "source": [
        "PreencheCampos.preenchimento('cliente','SULAMERICA',[290338,290431,289286,284726,284089,283790,268135,268361,268420,268506,268747,269975,270278,270716,271709,275325,275483,275585,275696,276673,277092,277323,277786,278548,281562,282054])  "
      ],
      "execution_count": null,
      "outputs": []
    },
    {
      "cell_type": "markdown",
      "metadata": {
        "id": "Tlt8bTPdNaFu"
      },
      "source": [
        "### <font color=black>2.3.8  <b>AFRESP</b></font>\n",
        "***"
      ]
    },
    {
      "cell_type": "code",
      "metadata": {
        "id": "Brv1QZ96Qv1r"
      },
      "source": [
        "PreencheCampos.preenchimento('cliente','AFRESP',[287428,287477,287483,288342,288657,289364,282716,282668,267525,268067,268897,269112,269350,269571,270045,270562,270575,270579,270794,270935,271050,271454,271604,271684,271898,272120,272125,272418,272513,272612,273085,273186,273297,274169,274220,274536,274629,275224,275383,275431,277170,278353,278414,278525,278770,278795,279744,279752,280160,280328,280957,282048])  "
      ],
      "execution_count": null,
      "outputs": []
    },
    {
      "cell_type": "markdown",
      "metadata": {
        "id": "wQN2azFvNfyS"
      },
      "source": [
        "### <font color=black>2.3.9  <b>CAFAZ</b></font>\n",
        "***"
      ]
    },
    {
      "cell_type": "code",
      "metadata": {
        "id": "APGK1zdcQx-4"
      },
      "source": [
        "PreencheCampos.preenchimento('cliente','CAFAZ',[290322,245078,245216,252760,252927,253074,258666] )"
      ],
      "execution_count": null,
      "outputs": []
    },
    {
      "cell_type": "markdown",
      "metadata": {
        "id": "QhDwK1uLNt-z"
      },
      "source": [
        "### <font color=black>2.3.10  <b>ECONOMUS</b></font>\n",
        "***"
      ]
    },
    {
      "cell_type": "code",
      "metadata": {
        "id": "QW8FySQBQz3R"
      },
      "source": [
        "PreencheCampos.preenchimento('cliente','ECONOMUS',[287399,271316,272133,272417,274681])  "
      ],
      "execution_count": null,
      "outputs": []
    },
    {
      "cell_type": "markdown",
      "metadata": {
        "id": "WF38u3ylQ3ra"
      },
      "source": [
        "### <font color=black>2.3.11  <b>MEDISERVICE</b></font>\n",
        "***"
      ]
    },
    {
      "cell_type": "code",
      "metadata": {
        "id": "bnpL7sCqRekb"
      },
      "source": [
        "PreencheCampos.preenchimento('cliente','MEDISERVICE',[290904,284414,268228,268911,268912,269289,269449,269655,270843,271011,271521,272556,272717,272809,273827,274103,274390,274746,274796,275673,276029])  "
      ],
      "execution_count": null,
      "outputs": []
    },
    {
      "cell_type": "markdown",
      "metadata": {
        "id": "5-SqtI6pRFAb"
      },
      "source": [
        "### <font color=black>2.3.12  <b>SEGUROS UNIMED</b></font>\n",
        "***"
      ]
    },
    {
      "cell_type": "code",
      "metadata": {
        "id": "by0ASA_gRhYP"
      },
      "source": [
        "PreencheCampos.preenchimento('cliente','SEGUROS UNIMED',[283753,277480,267520,271280,276025,276459,280156])  "
      ],
      "execution_count": null,
      "outputs": []
    },
    {
      "cell_type": "markdown",
      "metadata": {
        "id": "Yc7rUa2ZRI8V"
      },
      "source": [
        "### <font color=black>2.3.13  <b>NOTREDAME</b></font>\n",
        "***"
      ]
    },
    {
      "cell_type": "code",
      "metadata": {
        "id": "Un3P3Ai7RkHl"
      },
      "source": [
        "PreencheCampos.preenchimento('cliente','NOTREDAME',[290113,290594,276910,269798,269818,274605])    "
      ],
      "execution_count": null,
      "outputs": []
    },
    {
      "cell_type": "markdown",
      "metadata": {
        "id": "hNjr2-W5RXp1"
      },
      "source": [
        "### <font color=black>2.3.14  <b>ABBERTA</b></font>\n",
        "***"
      ]
    },
    {
      "cell_type": "code",
      "metadata": {
        "id": "q_rcwKioRmKI"
      },
      "source": [
        "PreencheCampos.preenchimento('cliente','ABERTTA',[274241,276198,284609,286483,286588,286942,287327,289817])     "
      ],
      "execution_count": null,
      "outputs": []
    },
    {
      "cell_type": "markdown",
      "metadata": {
        "id": "mBfsKvtaRpYT"
      },
      "source": [
        "### <font color=black>2.3.15  <b>OMINT</b></font>\n",
        "***"
      ]
    },
    {
      "cell_type": "code",
      "metadata": {
        "id": "nZjSPFRuRslF"
      },
      "source": [
        "PreencheCampos.preenchimento('cliente','OMINT',[288645,282935,244475])   "
      ],
      "execution_count": null,
      "outputs": []
    },
    {
      "cell_type": "markdown",
      "metadata": {
        "id": "mno2MtqFoXhH"
      },
      "source": [
        "### <font color=black>2.3.16  <b>ASFEB</b></font>"
      ]
    },
    {
      "cell_type": "code",
      "metadata": {
        "id": "N34r1k1QoX38"
      },
      "source": [
        "PreencheCampos.preenchimento('cliente','ASFEB',[270736,273799,274970,275698,275709,277082])"
      ],
      "execution_count": null,
      "outputs": []
    },
    {
      "cell_type": "markdown",
      "metadata": {
        "id": "xbp03dvQsN_8"
      },
      "source": [
        "### <font color=black>2.3.17  <b>HOSPITAU</b></font>"
      ]
    },
    {
      "cell_type": "code",
      "metadata": {
        "id": "mDM3k5K2sOL9"
      },
      "source": [
        "PreencheCampos.preenchimento('cliente','HOSPITAU',[290673,290636,287997,288459,289211,289309,283598,274612,275173,275820,276322])"
      ],
      "execution_count": null,
      "outputs": []
    },
    {
      "cell_type": "markdown",
      "metadata": {
        "id": "8ZhwbhR1gnDu"
      },
      "source": [
        "### <font color=black>2.3.19  <b>*TPA*</b></font>"
      ]
    },
    {
      "cell_type": "code",
      "metadata": {
        "id": "HLhMqn6LgnaE"
      },
      "source": [
        "PreencheCampos.preenchimento('cliente','TPA',[279236,268502,270000,270059,270261,270452,270871,287267,288973,283322]) "
      ],
      "execution_count": null,
      "outputs": []
    },
    {
      "cell_type": "markdown",
      "metadata": {
        "id": "qOmcxKiVuxYb"
      },
      "source": [
        "## <font color=black>2.4 Preenchendo informações nulas no campo <b>produto</b></font>\n",
        "***"
      ]
    },
    {
      "cell_type": "markdown",
      "metadata": {
        "id": "s-e9KOzjSqrA"
      },
      "source": [
        "### <font color=black>2.4.1  <b>Fature</b></font>\n",
        "***"
      ]
    },
    {
      "cell_type": "code",
      "metadata": {
        "id": "_jdiDSdaSrCI"
      },
      "source": [
        "PreencheCampos.preenchimento('produto','FATURE',[290947,291029,291087,289538,289583,289682,289716,289746,289747,289817,289879,289904,289944,289949,289956,289994,290008,290018,290035,290062,290066,290070,290077,290099,290113,290117,290121,290137,290171,290183,290262,290276,290310,290322,290338,290402,290431,290474,289899,289945,290149,290150,290618,290591,290652,290659,290673,290594,290904,289899,289945,290149,290150,290591,290594,267520,267634,267635,267666,267818,267859,267886,268045,268113,268125,268135,268208,268331,268333,268337,268361,268365,268388,268420,268438,268443,268490,268502,268506,268507,268598,268614,268747,268823,268855,268919,269010,269066,269079,269125,269137,269138,269139,269141,269142,269143,269145,269146,269214,269222,269223,269224,269225,269229,269237,269238,269241,269242,269243,269252,269256,269374,269402,269449,269655,269714,269798,269818,269820,269828,269960,269975,270000,270059,270068,270069,270101,270128,270130,270217,270261,270278,270282,270306,270310,270419,270446,270452,270475,270507,270557,270583,270613,270702,270704,270706,270708,270712,270716,270736,270797,270871,270910,271065,271094,271104,271280,271316,271361,271369,271474,271534,271559,271678,271699,271710,271715,271722,271799,271808,271834,271948,271949,271950,271951,271953,271954,271955,271956,272009,272057,272112,272125,272133,272151,272153,272160,272161,272171,272182,272186,272224,272280,272281,272282,272417,272418,272490,272545,272558,272580,272657,272675,272676,272677,272703,272762,272766,272815,273012,273020,273022,273137,273307,273389,273416,273444,273448,273462,273576,273728,273770,273799,273827,273944,273956,274015,274077,274115,274141,274153,274222,274241,274261,274386,274413,274434,274453,274547,274549,274576,274605,274629,274634,274684,274764,274826,274943,274970,275023,275153,275190,275191,275192,275194,275195,275197,275199,275201,275248,275298,275300,275302,275306,275315,275325,275334,275371,275402,275411,275413,275434,275483,275504,275535,275585,275652,275672,275696,275698,275709,275716,275799,275947,276004,276025,276041,276198,276320,276337,276339,276459,276463,276575,276673,276740,276886,276910,276937,276975,277048,277069,277082,277092,277104,277170,277259,277278,277323,277329,277362,277449,277480,277488,277490,277646,277689,277699,277786,277979,277980,278004,278008,278010,278029,278052,278060,278064,278066,278067,278068,278069,278073,278138,278178,278214,278342,278353,278359,278361,278369,278414,278427,278469,278548,278596,278626,278647,278771,278781,278846,278864,278865,278866,278903,278924,278928,278952,278994,279121,279139,279156,279160,279162,279164,279211,279236,279251,279254,279256,279258,279260,279262,279264,279268,279293,279298,279301,279340,279402,279412,279675,279688,279891,279909,279910,279922,279928,279930,279962,279997,280013,280048,280079,280086,280095,280156,280182,280185,280204,280208,280209,280348,280411,280424,280458,280663,280757,280791,280797,280822,280851,280866,280950,281040,281188,281234,281412,281461,281521,281562,281568,281574,281586,281606,281613,281669,281704,281760,281766,281778,281782,281890,281893,281896,281925,281928,281947,282223,282224,282226,282261,282287,282297,282310,282314,282342,282353,282569,282673,282722,282787,282799,282851,282935,282945,283217,283317,283322,283445,283463,283612,283662,283748,283753,283790,283830,283844,283850,283897,283905,283906,283907,283908,283909,283961,283963,283987,283994,283999,284002,284027,284034,284044,284052,284072,284089,284090,284146,284184,284285,284449,284522,284609,284616,284622,284726,284728,284750,284776,284782,284783,284854,284874,284894,284903,284904,284907,284920,284933,285016,285029,285047,285107,285146,285185,285186,285331,285351,285397,285969,286024,286282,286283,286288,286290,286297,286307,286327,286328,286330,286335,286342,286344,286347,286389,286459,286483,286588,286603,286672,286677,286730,286798,286821,286844,286855,286878,286881,286918,286926,286927,286942,286950,286978,286982,286999,287061,287073,287075,287077,287237,287267,287276,287327,287384,287446,287476,287536,287537,287549,287589,287776,287843,288003,288017,288239,288241,288243,288246,288260,288264,288271,288386,288450,288455,288457,288515,288536,288602,288630,288942,288973,289005,289021,289061,289250,289286,289339,289340,289417,289424]) "
      ],
      "execution_count": null,
      "outputs": []
    },
    {
      "cell_type": "markdown",
      "metadata": {
        "id": "3b47ksvhTQLT"
      },
      "source": [
        "### <font color=black>2.4.2  <b>Autorize</b></font>\n",
        "***"
      ]
    },
    {
      "cell_type": "code",
      "metadata": {
        "id": "YXcm4CLFVCgT"
      },
      "source": [
        "PreencheCampos.preenchimento('produto','AUTORIZE',[291057,291155,289657,289734,289780,289806,290069,289830,289895,290313,290456,290515,290086,290132,290555,290636,290674,290440,290514,290516,290646,289799,289806,290069,290313,290456,290515,290555,290636,290674,267364,267525,267644,267648,267687,267707,267709,267866,267976,267991,268067,268228,268301,268369,268479,268481,268618,268802,268837,268897,268912,269009,269015,269021,269050,269956,270047,270264,270313,270659,270843,270992,271393,271521,271604,271623,271709,271714,271779,272556,272641,272655,272717,272809,272968,273088,273253,273494,273595,273979,274024,274094,274384,274483,274536,274612,274676,274681,274746,274796,274944,274947,274949,274972,274974,275173,275326,275362,275414,275423,275506,275531,275606,275660,275721,275820,276028,276030,276031,276037,276297,276322,277047,277057,277059,277065,277100,277101,277103,277105,277106,277271,277409,277510,277669,277727,277729,277794,277929,277999,278015,278137,278218,278405,278490,278561,278604,278795,278832,278857,279120,279138,279168,279187,279212,279297,279455,279456,279475,279549,279591,279744,279752,279914,280041,280168,280200,280212,280274,280315,280412,280690,280939,281088,281579,281609,281685,281711,281723,281733,281774,281777,281781,281882,281895,281926,281932,281977,282074,282213,282356,282379,282381,282537,282677,282695,282716,282800,282912,282927,282928,282967,283019,283212,283468,283563,283570,283573,283575,283585,283598,283616,283646,283657,283874,283986,284003,284301,284348,284349,284414,284780,284922,284959,285027,285101,285131,285243,285246,285368,285395,285590,285595,285611,285612,285809,285843,285859,285916,285921,285931,285936,285985,285990,286067,286107,286121,286190,286194,286254,286315,286619,286781,287050,287121,287268,287399,287428,287483,287502,287856,287863,287870,287996,287997,288075,288152,288378,288459,288614,288643,288645,288655,288657,289211,289283,289309,289329])"
      ],
      "execution_count": null,
      "outputs": []
    },
    {
      "cell_type": "markdown",
      "metadata": {
        "id": "URbSIvX3Hogw"
      },
      "source": [
        "### <font color=black>2.4.3  <b>BPO</b></font>\n",
        "***"
      ]
    },
    {
      "cell_type": "code",
      "metadata": {
        "id": "LNd3GTCvHv_a"
      },
      "source": [
        "PreencheCampos.preenchimento('produto','BPO',[289386,290451,287864,282842,280887,284095,271011,276029,269271,282727,282706,282739,282220,282222,282363,282407,282491,267305,267767,267883,268308,268596,268806,268911,269215,269284,269289,269390,269588,269643,269789,269944,270825,270975,271282,271317,271331,271491,271643,271691,272108,272941,273527,274103,274390,274648,274931,274939,275179,275359,275417,275673,275699,275802,276052,276053,276147,276191,276266,276310,276314,276319,276528,276662,277204,277332,277496,277619,277643,277706,277732,277770,278106,278539,278820,278915,278922,279176,279177,279248,279359,279429,279519,279540,279880,279893,280164,280326,280738,280782,280931,280937,280942,280946,281146,281313,281703,281922])  "
      ],
      "execution_count": null,
      "outputs": []
    },
    {
      "cell_type": "markdown",
      "metadata": {
        "id": "pBO_GnwNyG2X"
      },
      "source": [
        "### <font color=black>2.4.4  <b>Analise</b></font>\n",
        "***"
      ]
    },
    {
      "cell_type": "code",
      "metadata": {
        "id": "GBB_xqgZyHLv"
      },
      "source": [
        "PreencheCampos.preenchimento('produto','analise',[290458,268750,269481,269520,269554,271775,271886,272312,273863,273988,276789,277032,277120,278462,279356,279367,281043,281715,281990,282665,282960,283020,283257,283991,286169,286329,286776,287365,288658])  "
      ],
      "execution_count": null,
      "outputs": []
    },
    {
      "cell_type": "markdown",
      "metadata": {
        "id": "RFBgaqg712zM"
      },
      "source": [
        "### 2.4.5 <b>Autorize Premium</b> \n",
        "***\n"
      ]
    },
    {
      "cell_type": "code",
      "metadata": {
        "id": "f4-HMaMG2MkK"
      },
      "source": [
        "PreencheCampos.preenchimento('produto','AUTORIZE PREMIum', [284227,282594,273297,274950,274960,268397,270579,275466,281881])  "
      ],
      "execution_count": null,
      "outputs": []
    },
    {
      "cell_type": "markdown",
      "metadata": {
        "id": "s-DKrPy3vLk0"
      },
      "source": [
        "### 2.4.6 <b>Fature Imagem</b> \n",
        "***"
      ]
    },
    {
      "cell_type": "code",
      "metadata": {
        "id": "ycoAkYAsvSoS"
      },
      "source": [
        "PreencheCampos.preenchimento('produto','FATURE IMAGEM',[287967,282812,284352,278597,277063,277050,273380,282246,267464,267823,267836,268116,269361,269611,275966,281427,282391])  "
      ],
      "execution_count": null,
      "outputs": []
    },
    {
      "cell_type": "markdown",
      "metadata": {
        "id": "5oZbj0pAuuhY"
      },
      "source": [
        "### 2.4.7 <b>Fature Auditado</b> \n",
        "***"
      ]
    },
    {
      "cell_type": "code",
      "metadata": {
        "id": "uE_58kx5u2K_"
      },
      "source": [
        "PreencheCampos.preenchimento('produto','FATURE AUDITADO',[268417,268812,270923,270935,271900,274139,277291,284954,285144,287431])  "
      ],
      "execution_count": null,
      "outputs": []
    },
    {
      "cell_type": "markdown",
      "metadata": {
        "id": "CW3uPBcOvXUX"
      },
      "source": [
        "### 2.4.8 <b>Fature Premium</b> \n",
        "***"
      ]
    },
    {
      "cell_type": "code",
      "metadata": {
        "id": "YvLRzeDkvX2f"
      },
      "source": [
        "PreencheCampos.preenchimento('produto','FATURE PREMIUM',[289560,289664,289751,289909,289983,290341,267352,267456,267751,268219,268620,269112,269273,269350,269571,269645,269721,269962,270045,270070,270389,270478,270494,270506,270562,270569,270575,270794,270865,270999,271050,271323,271328,271337,271347,271372,271454,271638,271640,271684,271702,271723,271898,271999,272120,272121,272513,272612,272650,272697,272777,272782,272951,273085,273133,273146,273186,273347,273356,273402,274169,274220,274441,274554,274672,274675,274748,274921,274932,275224,275329,275383,275431,275621,275898,275903,276076,276089,276189,276194,276348,276579,276718,276918,276970,277052,277119,277148,277205,277445,277447,277624,277678,277788,277805,277818,277874,277924,277972,278001,278039,278116,278222,278397,278525,278569,278588,278651,278770,278776,278968,279180,279250,279506,279838,280054,280123,280160,280328,280562,280567,280651,280957,281572,281600,281700,282048,282263,282668,282696,282845,283081,283187,283321,283453,283822,283939,284222,284765,284930,285170,285188,285191,285192,285215,285225,285230,285354,285607,285806,285826,285918,286275,286384,286449,286573,286924,286949,286957,287181,287266,287358,287363,287477,287497,287855,288025,288248,288303,288342,288646,289029,289273,289295,289325,289364,289405,289406])"
      ],
      "execution_count": null,
      "outputs": []
    },
    {
      "cell_type": "markdown",
      "metadata": {
        "id": "5UQa7j4O-CZX"
      },
      "source": [
        "### 2.4.9 <b>Frente Automatizada</b> \n",
        "***"
      ]
    },
    {
      "cell_type": "code",
      "metadata": {
        "id": "NmVl4auF-DKV"
      },
      "source": [
        "PreencheCampos.preenchimento('produto','FRENTE AUTOMATIZADA',[270514])  "
      ],
      "execution_count": null,
      "outputs": []
    },
    {
      "cell_type": "markdown",
      "metadata": {
        "id": "OqyDvdMhsWqG"
      },
      "source": [
        "## <font color=black> Estado do dataset após a tratativa </font>\n",
        "***\n",
        "\n",
        "Podemos ver que nesse processo de limpeza perdemos varios registros que poderiam nos gerar um resultado mais preciso caso tivessem sido preenchidas corretamente. \n",
        "\n",
        "A tendencia é que, com a melhoria nos processos de abertura de demandas, esse problema aconteça cada vez menos, até ser irrelevante e quem sabe até não mais ocorrer.\n",
        "\n",
        "\n",
        "\n",
        "\n",
        "\n",
        "\n"
      ]
    },
    {
      "cell_type": "code",
      "metadata": {
        "id": "gEkup18LSy_G"
      },
      "source": [
        "#após tratativa\n",
        "dados.info()"
      ],
      "execution_count": null,
      "outputs": []
    },
    {
      "cell_type": "markdown",
      "metadata": {
        "id": "Y3Hz7eHAvY41"
      },
      "source": [
        "<i>PS: após realizar atualização nas tratatativas dos campos <b>cliente</b> e <b>produto</b>, houve uma redução drástica na quantidade de registros excluídos </i>"
      ]
    },
    {
      "cell_type": "markdown",
      "metadata": {
        "id": "PnQrEmK2B3vu"
      },
      "source": [
        "# 3 Alteração de valores em campos do Dataset \n",
        "***\n",
        "\n",
        "Alguns campos são necessários para geração de indicadores, porém a forma que são preenchidos inviabiliza sua utilização.\n",
        "\n",
        "\n",
        "Para resolver este problema, neste tópico realizaremos tratativa de algumas informações."
      ]
    },
    {
      "cell_type": "markdown",
      "metadata": {
        "id": "PWjrp-V8LOUv"
      },
      "source": [
        "## 3.1 Alteração de valores do campo <b>priorizado</b>\n",
        "***\n",
        "\n",
        "O Campo <b>priorizado</b> comummente é preenchido de forma numérica, com os números indicando a posição na priorização. Para gerar os indicadores, precisamos apenas saber se ele é ou não priorizado.\n",
        "\n",
        "Neste caso, vamos alterar os valores para que sejam 0 (zero) caso não sejam priorizados e 1 (um) caso sejam."
      ]
    },
    {
      "cell_type": "code",
      "metadata": {
        "id": "N8aA4gxmHGva"
      },
      "source": [
        "#Alteração dos valores de priorização para que sejam categorizados em True ou False\n",
        "#dados['priorizacao'].where(dados['priorizacao'] < 1 , 1,inplace=True)\n",
        "\n"
      ],
      "execution_count": null,
      "outputs": []
    },
    {
      "cell_type": "markdown",
      "metadata": {
        "id": "G7riQ7kh1SRj"
      },
      "source": [
        "# 4 Agrupando Equipes\n",
        "***\n",
        "\n",
        "Analisando o dataset, identificamos que muitas vezes, a mesma equipe é representada de varias formas diferentes, por exemplo: pos-vendas (todo minusculo) e Pos-vendas (com o 'P' maiusculo)\n",
        "\n",
        "Esse tópico trata da solução para este problema\n"
      ]
    },
    {
      "cell_type": "markdown",
      "metadata": {
        "id": "1GfEHh-EPF6X"
      },
      "source": [
        "##  Dados Pré tratativa\n",
        "***"
      ]
    },
    {
      "cell_type": "code",
      "metadata": {
        "id": "xwGkfcolPVq0"
      },
      "source": [
        "#dados['equipe_solicitante'].value_counts()"
      ],
      "execution_count": null,
      "outputs": []
    },
    {
      "cell_type": "markdown",
      "metadata": {
        "id": "0TmAvoD0fUd3"
      },
      "source": [
        "## Agrupamentos\n",
        "***\n"
      ]
    },
    {
      "cell_type": "markdown",
      "metadata": {
        "id": "OdnzBqXi6hG1"
      },
      "source": [
        "### 4.2 Grupo <b>Pós-Venda</b>\n",
        "***\n",
        "\n",
        "Grupo formado pelas equipes:\n",
        "\n",
        "|Pós-Venda|\n",
        "|---|\n",
        "|Pós-Venda|\n",
        "|Pós-venda|\n",
        "|Pós-Venda Bradesco Saude RJ|\n",
        "|Pos-venda Bradesco Saude rj|\n",
        "|Pós-Venda Bradesco Saúde|\n",
        "|Back Office Operadoras|\n",
        "|Caixa departamento|\n",
        "|Equipe de Vendas|\n",
        "|Pré-Venda|\n",
        "|Pos-venda|\n",
        "|Pos-venda Bradesco Saude|\n",
        "|Inteligência Tecnica|\n",
        "|Analise de Negocios rj|\n",
        "|Análise de Negócios RJ|\n",
        "|Temporários|\n",
        "|Pessoas e Gestao (Jovem)|\n",
        "\n"
      ]
    },
    {
      "cell_type": "code",
      "metadata": {
        "id": "THNpDt5I4fkY"
      },
      "source": [
        "\n",
        "# dados['equipe_solicitante'].loc[dados['equipe_solicitante'] == 'Pós-Venda'] = 'PÓS-VENDA'\n",
        "# dados['equipe_solicitante'].loc[dados['equipe_solicitante'] == 'Pós-venda'] = 'PÓS-VENDA'\n",
        "# dados['equipe_solicitante'].loc[dados['equipe_solicitante'] == 'Pós-Venda Bradesco Saude RJ' ] = 'PÓS-VENDA'\n",
        "# dados['equipe_solicitante'].loc[dados['equipe_solicitante'] == 'Pós-Venda Bradesco Saúde'] = 'PÓS-VENDA'\n",
        "# dados['equipe_solicitante'].loc[dados['equipe_solicitante'] == 'Caixa departamento'] = 'PÓS-VENDA'\n",
        "# dados['equipe_solicitante'].loc[dados['equipe_solicitante'] == 'Equipe de Vendas'] = 'PÓS-VENDA'\n",
        "# dados['equipe_solicitante'].loc[dados['equipe_solicitante'] == 'Pré-Venda'] = 'PÓS-VENDA'\n",
        "# dados['equipe_solicitante'].loc[dados['equipe_solicitante'] == 'Pre-venda'] = 'PÓS-VENDA'\n",
        "# dados['equipe_solicitante'].loc[dados['equipe_solicitante'] == 'Pos-venda'] = 'PÓS-VENDA'\n",
        "# dados['equipe_solicitante'].loc[dados['equipe_solicitante'] == 'Pos-venda Bradesco Saude'] = 'PÓS-VENDA'\n",
        "# dados['equipe_solicitante'].loc[dados['equipe_solicitante'] == 'Inteligência Tecnica'] = 'PÓS-VENDA'\n",
        "# dados['equipe_solicitante'].loc[dados['equipe_solicitante'] == 'Pos-venda Bradesco Saude rj' ] = 'PÓS-VENDA'\n",
        "# dados['equipe_solicitante'].loc[dados['equipe_solicitante'] == 'Analise de Negocios rj' ] = 'PÓS-VENDA'\n",
        "# dados['equipe_solicitante'].loc[dados['equipe_solicitante'] == 'Análise de Negócios RJ'] = 'PÓS-VENDA'\n",
        "# dados['equipe_solicitante'].loc[dados['equipe_solicitante'] == 'Temporários'] = 'PÓS-VENDA'\n",
        "# dados['equipe_solicitante'].loc[dados['equipe_solicitante'] == 'Temporarios'] = 'PÓS-VENDA'\n",
        "# dados['equipe_solicitante'].loc[dados['equipe_solicitante'] == 'Analise de Negocios'] = 'PÓS-VENDA'\n",
        "# dados['equipe_solicitante'].loc[dados['equipe_solicitante'] == 'Pos-Venda'] = 'PÓS-VENDA'\n",
        "# dados['equipe_solicitante'].loc[dados['equipe_solicitante'] == 'Pos-Venda Bradesco Saude'] = 'PÓS-VENDA'\n",
        "# dados['equipe_solicitante'].loc[dados['equipe_solicitante'] == 'Pos-Venda Bradesco Saude RJ'] = 'PÓS-VENDA'\n",
        "# dados['equipe_solicitante'].loc[dados['equipe_solicitante'] == 'Pessoas e Gestao (Jovem)'] = 'PÓS-VENDA'\n",
        "# dados['equipe_solicitante'].loc[dados['equipe_solicitante'] == 'POS-VENDA'] = 'PÓS-VENDA'\n",
        "# dados['equipe_solicitante'].loc[dados['equipe_solicitante'] == 'POS-VENDA BRADESCO SAUDE'] = 'PÓS-VENDA'\n",
        "# dados['equipe_solicitante'].loc[dados['equipe_solicitante'] == 'POS-VENDA BRADESCO SAUDE RJ'] = 'PÓS-VENDA'\n",
        "# dados['equipe_solicitante'].loc[dados['equipe_solicitante'] == 'PRE-VENDA'] = 'PÓS-VENDA'"
      ],
      "execution_count": null,
      "outputs": []
    },
    {
      "cell_type": "markdown",
      "metadata": {
        "id": "Qhtwd6SXLof8"
      },
      "source": [
        "### 4.3 Grupo <b>BPO</b>\n",
        "***\n",
        "\n",
        "Grupo formado pelas equipes:\n",
        "\n",
        "|BPO|\n",
        "|---|\n",
        "|BPO Life Empresarial Operação|\n",
        "|Superint. BPO Processamento|\n",
        "|Bvp Back Office|\n",
        "|BVP Back Office|\n",
        "|BVP BackOffice|\n",
        "|Back Office Operadoras|\n",
        "|Gestão Esteiras|\n",
        "|SADT Imagem Filial SP|\n",
        "|Conciliação Eletrônico|\n",
        "|SCAM Reembolso SP|\n",
        "|Célula de Recepção|\n",
        "|Monitoramento de Qualidade|\n",
        "|SCAM Reembolso RJ|\n",
        "|Apoio Logístico Medservice|\n",
        "|Conciliação Eletronico|\n",
        "|BPO Consulta Bradesco|\n",
        "|Esteira de Processamento Bradesco|\n",
        "|Call Center|\n",
        "|Célula de Digitalização|\n",
        "|Esteira de Processamento Sulamérica|\n",
        "|Pessoas e Gestão RJ|\n",
        "|Gestão Contas Médicas SP|\n",
        "|QA Contas Médicas RJ|\n",
        "|ACP Estipulante RJ|\n",
        "|Inteligência Médica|\n",
        "|Contas Médicas SADT Filial RJ|\n",
        "|Contas Médicas HP Filial RJ|\n",
        "|BPO Consulta Bradesco|\n",
        "|Bpo Gestao - Gestao Contas Medicas - Barueri|\n",
        "|Celula de Digitalizacao|\n",
        "|Contas Medicas hp Filial rj|\n",
        "|Gestao Esteiras|                                   \n",
        "|Sadt Imagem|\n",
        "|Controle E Monit. Operacional rj|\n",
        "|BPO Gestao - Gestao Contas Medicas - Barueri|\n",
        "|Bpo Consulta Bradesco|\n",
        "|Sadt Imagem Filial Sp|\n",
        "|Conciliacao Eletronico|\n",
        "|Recepcao|\n",
        "|qa Contas Medicas rj|"
      ]
    },
    {
      "cell_type": "code",
      "metadata": {
        "id": "LR18hEe1OpA9"
      },
      "source": [
        "# dados['equipe_solicitante'].loc[dados['equipe_solicitante'] == 'BPO Life Empresarial Operação'] = 'BPO'\n",
        "# dados['equipe_solicitante'].loc[dados['equipe_solicitante'] == 'Superint. BPO Processamento'] = 'BPO'\n",
        "# dados['equipe_solicitante'].loc[dados['equipe_solicitante'] == 'Bvp Back Office'] = 'BPO'\n",
        "# dados['equipe_solicitante'].loc[dados['equipe_solicitante'] == 'BVP Back Office'] = 'BPO'\n",
        "# dados['equipe_solicitante'].loc[dados['equipe_solicitante'] == 'BVP BackOffice'] = 'BPO'\n",
        "# dados['equipe_solicitante'].loc[dados['equipe_solicitante'] == 'Gestão Esteiras'] = 'BPO'\n",
        "# dados['equipe_solicitante'].loc[dados['equipe_solicitante'] == 'SADT Imagem Filial SP'] = 'BPO'\n",
        "# dados['equipe_solicitante'].loc[dados['equipe_solicitante'] == 'Conciliação Eletrônico'] = 'BPO'\n",
        "# dados['equipe_solicitante'].loc[dados['equipe_solicitante'] == 'SCAM Reembolso SP'] = 'BPO'\n",
        "# dados['equipe_solicitante'].loc[dados['equipe_solicitante'] == 'Célula de Recepção'] = 'BPO'\n",
        "# dados['equipe_solicitante'].loc[dados['equipe_solicitante'] == 'Monitoramento de Qualidade'] = 'BPO'\n",
        "# dados['equipe_solicitante'].loc[dados['equipe_solicitante'] == 'SCAM Reembolso RJ'] = 'BPO'\n",
        "# dados['equipe_solicitante'].loc[dados['equipe_solicitante'] == 'Apoio Logístico Medservice'] = 'BPO'\n",
        "# dados['equipe_solicitante'].loc[dados['equipe_solicitante'] == 'Conciliação Eletronico'] = 'BPO'\n",
        "# dados['equipe_solicitante'].loc[dados['equipe_solicitante'] == 'BPO Consulta Bradesco\"'] = 'BPO'\n",
        "# dados['equipe_solicitante'].loc[dados['equipe_solicitante'] == 'Esteira de Processamento Bradesco'] = 'BPO'\n",
        "# dados['equipe_solicitante'].loc[dados['equipe_solicitante'] == 'Call Center'] = 'BPO'\n",
        "# dados['equipe_solicitante'].loc[dados['equipe_solicitante'] == 'Célula de Digitalização'] = 'BPO'\n",
        "# dados['equipe_solicitante'].loc[dados['equipe_solicitante'] == 'Esteira de Processamento Sulamérica'] = 'BPO'\n",
        "# dados['equipe_solicitante'].loc[dados['equipe_solicitante'] == 'Pessoas e Gestão RJ'] = 'BPO'\n",
        "# dados['equipe_solicitante'].loc[dados['equipe_solicitante'] == 'Gestão Contas Médicas SP'] = 'BPO'\n",
        "# dados['equipe_solicitante'].loc[dados['equipe_solicitante'] == 'QA Contas Médicas RJ'] = 'BPO'\n",
        "# dados['equipe_solicitante'].loc[dados['equipe_solicitante'] == 'ACP Estipulante RJ'] = 'BPO'\n",
        "# dados['equipe_solicitante'].loc[dados['equipe_solicitante'] == 'Inteligência Médica'] = 'BPO'\n",
        "# dados['equipe_solicitante'].loc[dados['equipe_solicitante'] == 'Contas Médicas SADT Filial RJ'] = 'BPO'\n",
        "# dados['equipe_solicitante'].loc[dados['equipe_solicitante'] == 'Contas Médicas HP Filial RJ'] = 'BPO'\n",
        "# dados['equipe_solicitante'].loc[dados['equipe_solicitante'] == 'BPO Consulta Bradesco'] = 'BPO'\n",
        "# dados['equipe_solicitante'].loc[dados['equipe_solicitante'] == 'Controle e Monitoramento Operacional SP'] = 'BPO'\n",
        "# dados['equipe_solicitante'].loc[dados['equipe_solicitante'] == 'Bpo Gestao - Gestao Contas Medicas - Barueri'] = 'BPO'\n",
        "# dados['equipe_solicitante'].loc[dados['equipe_solicitante'] == 'Celula de Digitalizacao'] = 'BPO'\n",
        "# dados['equipe_solicitante'].loc[dados['equipe_solicitante'] == 'Contas Medicas hp Filial rj'] = 'BPO'\n",
        "# dados['equipe_solicitante'].loc[dados['equipe_solicitante'] == 'Gestao Esteiras'] = 'BPO'\n",
        "# dados['equipe_solicitante'].loc[dados['equipe_solicitante'] == 'Sadt Imagem'] = 'BPO'\n",
        "# dados['equipe_solicitante'].loc[dados['equipe_solicitante'] == 'Controle E Monit. Operacional rj'] = 'BPO'\n",
        "# dados['equipe_solicitante'].loc[dados['equipe_solicitante'] == 'BPO Gestao - Gestao Contas Medicas - Barueri'] = 'BPO'\n",
        "# dados['equipe_solicitante'].loc[dados['equipe_solicitante'] == 'Bpo Consulta Bradesco'] = 'BPO'\n",
        "# dados['equipe_solicitante'].loc[dados['equipe_solicitante'] == 'Sadt Imagem Filial Sp'] = 'BPO'\n",
        "# dados['equipe_solicitante'].loc[dados['equipe_solicitante'] == 'Conciliacao Eletronico'] = 'BPO'\n",
        "# dados['equipe_solicitante'].loc[dados['equipe_solicitante'] == 'Recepcao'] = 'BPO'\n",
        "# dados['equipe_solicitante'].loc[dados['equipe_solicitante'] == 'Contas Medicas Sadt Filial rj'] = 'BPO'\n",
        "# dados['equipe_solicitante'].loc[dados['equipe_solicitante'] == 'qa Contas Medicas rj'] = 'BPO'\n",
        "# dados['equipe_solicitante'].loc[dados['equipe_solicitante'] == 'Rede Opme Bradesco'] = 'BPO'\n",
        "# dados['equipe_solicitante'].loc[dados['equipe_solicitante'] == 'Comunicacao e Gestao Da Marca'] = 'BPO'\n",
        "# dados['equipe_solicitante'].loc[dados['equipe_solicitante'] == 'Contas Medicas Sadt Filial RJ'] = 'BPO'\n",
        "# dados['equipe_solicitante'].loc[dados['equipe_solicitante'] == 'Controle e Monit. Operacional RJ'] = 'BPO'\n",
        "# dados['equipe_solicitante'].loc[dados['equipe_solicitante'] == 'Contas Medicas Sadt Filial Rj'] = 'BPO'\n",
        "# dados['equipe_solicitante'].loc[dados['equipe_solicitante'] == 'Superint. Operacoes sp'] = 'BPO'\n",
        "# dados['equipe_solicitante'].loc[dados['equipe_solicitante'] == 'Acp Estipulante rj'] = 'BPO'\n",
        "# dados['equipe_solicitante'].loc[dados['equipe_solicitante'] == 'Pessoas e Gestao RJ (Jovem)'] = 'BPO'\n",
        "# dados['equipe_solicitante'].loc[dados['equipe_solicitante'] == 'CONTAS MEDICAS SADT FILIAL RJ'] = 'BPO'\n",
        "# dados['equipe_solicitante'].loc[dados['equipe_solicitante'] == 'BVP BACK OFFICE'] = 'BPO'\n",
        "# dados['equipe_solicitante'].loc[dados['equipe_solicitante'] == 'CALL CENTER'] = 'BPO'\n",
        "# dados['equipe_solicitante'].loc[dados['equipe_solicitante'] == 'SADT IMAGEM'] = 'BPO'\n",
        "# dados['equipe_solicitante'].loc[dados['equipe_solicitante'] == 'CELULA DE DIGITALIZACAO'] = 'BPO'\n"
      ],
      "execution_count": null,
      "outputs": []
    },
    {
      "cell_type": "markdown",
      "metadata": {
        "id": "gXISlZ7qTjpR"
      },
      "source": [
        "### 4.4 Grupo <b>alarmes_automaticos</b>\n",
        "***\n",
        "\n",
        "Grupo formado pelas equipes:\n",
        "\n",
        "|alarmes_automaticos|\n",
        "|---|\n",
        "|Monitoramento|\n",
        "|Infraestrutura Produção|\n",
        "|Infraestrutura Corporativa|\n",
        "|Operações de TI|"
      ]
    },
    {
      "cell_type": "code",
      "metadata": {
        "id": "ec5RFnE5pAH_"
      },
      "source": [
        "# dados['equipe_solicitante'].loc[dados['equipe_solicitante'] == 'Monitoramento'] = 'ALARMES AUTOMÁTICOS'\n",
        "# dados['equipe_solicitante'].loc[dados['equipe_solicitante'] == 'Infraestrutura Produção'] = 'ALARMES AUTOMÁTICOS'\n",
        "# dados['equipe_solicitante'].loc[dados['equipe_solicitante'] == 'Infraestrutura Corporativa'] = 'ALARMES AUTOMÁTICOS'\n",
        "# dados['equipe_solicitante'].loc[dados['equipe_solicitante'] == 'Operações de TI'] = 'ALARMES AUTOMÁTICOS'\n",
        "# dados['equipe_solicitante'].loc[dados['equipe_solicitante'] == 'Operacoes de Ti'] = 'ALARMES AUTOMÁTICOS'\n"
      ],
      "execution_count": null,
      "outputs": []
    },
    {
      "cell_type": "markdown",
      "metadata": {
        "id": "sfDDyoAUpfsU"
      },
      "source": [
        "### 4.5 grupo <b>arquitetura_ti</b>\n",
        "***\n",
        "\n",
        "Grupo formado pelas equipes:\n",
        "\n",
        "|arquitetura_ti|\n",
        "|---|\n",
        "|Arquitetura de TI|\n",
        "|Superint. de Arquitetura, Dados e Governança|"
      ]
    },
    {
      "cell_type": "code",
      "metadata": {
        "id": "Os9lOU3dpyUT"
      },
      "source": [
        "# dados['equipe_solicitante'].loc[dados['equipe_solicitante'] ==  'Arquitetura de TI',] = 'ARQUITETURA - TI'\n",
        "# dados['equipe_solicitante'].loc[dados['equipe_solicitante'] ==  'Superint. de Arquitetura, Dados e Governança'] = 'ARQUITETURA - TI'\n",
        "# dados['equipe_solicitante'].loc[dados['equipe_solicitante'] ==  'Arquitetura de ti'] = 'ARQUITETURA - TI'\n"
      ],
      "execution_count": null,
      "outputs": []
    },
    {
      "cell_type": "markdown",
      "metadata": {
        "id": "cVC-ojHyp9WH"
      },
      "source": [
        "### 4.6 grupo <b>NIMA</b>\n",
        "***\n",
        "\n",
        "Grupo formado pelas equipes:\n",
        "\n",
        "|NIMA|\n",
        "|---|\n",
        "|Fature Auditado|\n",
        "|Superint. Inteligencia Tecnica|\n",
        "|Inteligencia Tecnica|"
      ]
    },
    {
      "cell_type": "code",
      "metadata": {
        "id": "nw_ANeXVqZzI"
      },
      "source": [
        "# dados['equipe_solicitante'].loc[dados['equipe_solicitante'] == 'Fature Auditado'] = 'NIMA'\n",
        "# dados['equipe_solicitante'].loc[dados['equipe_solicitante'] == 'Superint. Inteligencia Tecnica'] = 'NIMA'\n",
        "# dados['equipe_solicitante'].loc[dados['equipe_solicitante'] == 'Inteligencia Tecnica'] = 'NIMA'\n",
        "\n",
        "\n",
        "\n"
      ],
      "execution_count": null,
      "outputs": []
    },
    {
      "cell_type": "markdown",
      "metadata": {
        "id": "bMXAGFNSrMc8"
      },
      "source": [
        "### 4.7 Grupo <b>OPME</b>\n",
        "***\n",
        "\n",
        "Grupo formado pelas equipes:\n",
        "\n",
        "|OPME|\n",
        "|---|\n",
        "|Gerencia OPME Seguros|\n",
        "|Cadastro OPME Alphaville|\n",
        "|Rede OPME Sulamérica|\n",
        "|Gerencia Opme E Seguros|\n",
        "|Gerencia OPME E Seguros||"
      ]
    },
    {
      "cell_type": "code",
      "metadata": {
        "id": "cjPaBUgcr3MC"
      },
      "source": [
        "# dados['equipe_solicitante'].loc[dados['equipe_solicitante'] == 'Gerencia OPME Seguros'] = 'OPME'\n",
        "# dados['equipe_solicitante'].loc[dados['equipe_solicitante'] == 'Cadastro OPME Alphaville'] = 'OPME'\n",
        "# dados['equipe_solicitante'].loc[dados['equipe_solicitante'] == 'Rede OPME Sulamérica'] = 'OPME'\n",
        "# dados['equipe_solicitante'].loc[dados['equipe_solicitante'] == 'Gerencia OPME E Seguros'] = 'OPME'\n",
        "# dados['equipe_solicitante'].loc[dados['equipe_solicitante'] == 'Gerencia Opme E Seguros'] = 'OPME'\n",
        "# dados['equipe_solicitante'].loc[dados['equipe_solicitante'] == 'Redes Opme'] = 'OPME'\n",
        "\n",
        "\n"
      ],
      "execution_count": null,
      "outputs": []
    },
    {
      "cell_type": "markdown",
      "metadata": {
        "id": "EbQ6Wmqbw6zK"
      },
      "source": [
        "### 4.8 Grupo <b>QA/DEV</b>\n",
        "***\n",
        "\n",
        "Grupo formado pelas equipes:\n",
        "\n",
        "|QA/DEV|\n",
        "|---|\n",
        "|Terceiros|\n",
        "|Desenvolvimento de Sistemas|"
      ]
    },
    {
      "cell_type": "code",
      "metadata": {
        "id": "Zz3qZ5aQxX1N"
      },
      "source": [
        "# dados['equipe_solicitante'].loc[dados['equipe_solicitante'] == 'Terceiros'] = 'QA/DEV'\n",
        "# dados['equipe_solicitante'].loc[dados['equipe_solicitante'] == 'Desenvolvimento de Sistemas'] = 'QA/DEV'"
      ],
      "execution_count": null,
      "outputs": []
    },
    {
      "cell_type": "markdown",
      "metadata": {
        "id": "8iK9D83CxmFT"
      },
      "source": [
        "### 4.9 Grupo <b>Produtos</b>\n",
        "***\n",
        "\n",
        "Grupo formado pelas equipes:\n",
        "\n",
        "|Produtos|\n",
        "|---|\n",
        "|Escritório de Projetos|\n",
        "|Produtos|"
      ]
    },
    {
      "cell_type": "code",
      "metadata": {
        "id": "txQE8qyqyzB2"
      },
      "source": [
        "# dados['equipe_solicitante'].loc[dados['equipe_solicitante'] == 'Escritório de Projetos',] = 'PRODUTOS'\n",
        "# dados['equipe_solicitante'].loc[dados['equipe_solicitante'] == 'Produtos'] = 'PRODUTOS'\n",
        "# dados['equipe_solicitante'].loc[dados['equipe_solicitante'] == 'Escritorio de Projetos'] = 'PRODUTOS'\n",
        "\n"
      ],
      "execution_count": null,
      "outputs": []
    },
    {
      "cell_type": "markdown",
      "metadata": {
        "id": "n3OJB7SOgigU"
      },
      "source": [
        "### 4.10 Grupo <b>BackOffice Prestadores</b>\n",
        "***\n",
        "\n",
        "Grupo formado pelas equipes:\n",
        "\n",
        "|Back Office Prestadores|\n",
        "|---|\n",
        "|Back Office Prestadores|"
      ]
    },
    {
      "cell_type": "code",
      "metadata": {
        "id": "-nfKefS6gi0q"
      },
      "source": [
        "# dados['equipe_solicitante'].loc[dados['equipe_solicitante'] == 'Back Office Prestadores',] = 'BACKOFFICE PRESTADORES'\n",
        "# dados['equipe_solicitante'].loc[dados['equipe_solicitante'] == 'Back Office Operadoras'] = 'BACKOFFICE PRESTADORES'\n",
        "# dados['equipe_solicitante'].loc[dados['equipe_solicitante'] == 'BACK OFFICE PRESTADORES'] = 'BACKOFFICE PRESTADORES'\n"
      ],
      "execution_count": null,
      "outputs": []
    },
    {
      "cell_type": "markdown",
      "metadata": {
        "id": "ShfXfsnFW5KV"
      },
      "source": [
        "### 4.11 Grupo <b>GOVERNANÇA TI</b>"
      ]
    },
    {
      "cell_type": "code",
      "metadata": {
        "id": "ntH53PE_W5Ug"
      },
      "source": [
        "#dados['equipe_solicitante'].loc[dados['equipe_solicitante'] == 'Governanca de ti',] = 'GOVERNAÇA DE TI'"
      ],
      "execution_count": null,
      "outputs": []
    },
    {
      "cell_type": "markdown",
      "metadata": {
        "id": "O9pjxCZlzE1L"
      },
      "source": [
        "## Dados pós tratativa \n",
        "***"
      ]
    },
    {
      "cell_type": "code",
      "metadata": {
        "id": "wUgCGzguzU-N"
      },
      "source": [
        "#dados['equipe_solicitante'].value_counts()"
      ],
      "execution_count": null,
      "outputs": []
    },
    {
      "cell_type": "markdown",
      "metadata": {
        "id": "3guj7jtpSAKS"
      },
      "source": [
        "# 5 Agrupando Produtos\n",
        "***\n",
        "\n",
        "identificamos que muitas vezes, o mesmo produto é representada de varias formas diferentes, por exemplo: <b>BPO-Cabesp</b> e <b>BPO-Cabesp\\r\\nBPO-Mediservice</b> \n",
        "\n",
        "Esse tópico trata da solução para este problema"
      ]
    },
    {
      "cell_type": "markdown",
      "metadata": {
        "id": "y_J7Eh-ATHg2"
      },
      "source": [
        "## Dados Pré tratativa\n",
        "***"
      ]
    },
    {
      "cell_type": "code",
      "metadata": {
        "id": "dlmiSFL3TJMT"
      },
      "source": [
        "dados['produto'].value_counts()"
      ],
      "execution_count": null,
      "outputs": []
    },
    {
      "cell_type": "markdown",
      "metadata": {
        "id": "nhXwDLZRTaFI"
      },
      "source": [
        "## 5.2 Produto <b>BPO</b>\n",
        "***\n",
        "\n",
        "\n",
        "\n",
        "|PRODUTOS|\n",
        "|---|\n",
        "|BPO-Cabesp|\n",
        "|BPO-Bradesco|\n",
        "|BPO-BVP|\n",
        "|BPO-Mediservice|\n",
        "|Aviso de Sinistro|\n",
        "|BPO-Cabesp\\r\\nBPO-Mediservice|\n",
        "|Aviso de Sinistro\\r\\nBPO-BVP|\n",
        "|BPO-Cabesp\\r\\nFature|\n",
        "|BPO-Bradesco\\r\\nBPO-Cabesp\\r\\nBPO-Economus\\r\\nBPO-Fapes\\r\\nBPO-Life\\r\\nBPO-Mediservice|\n",
        "|BSP|\n",
        "|BPO-Bradesco\\r\\nBPO-Fapes\\r\\nBPO-Life|\n",
        "|Analise\\r\\nBPO-Bradesco|\n",
        "|BPO-Mediservice\\r\\nFature|"
      ]
    },
    {
      "cell_type": "code",
      "metadata": {
        "id": "OPr0-ee7UCBp"
      },
      "source": [
        "# dados['produto'].loc[dados['produto'] == 'BPO-Cabesp'] = 'BPO'\n",
        "# dados['produto'].loc[dados['produto'] == 'BPO-Bradesco'] = 'BPO'\n",
        "# dados['produto'].loc[dados['produto'] == 'BPO-BVP'] = 'BPO'\n",
        "# dados['produto'].loc[dados['produto'] == 'BPO-Mediservice'] = 'BPO'\n",
        "# dados['produto'].loc[dados['produto'] == 'Aviso de Sinistro'] = 'BPO'\n",
        "# dados['produto'].loc[dados['produto'] == 'BSP'] = 'BPO'\n",
        "# dados['produto'].loc[dados['produto'] == 'BPO-Life'] = 'BPO'\n",
        "# dados['produto'].loc[dados['produto'] == 'Site Institucional'] = 'BPO'\n",
        "\n",
        "\n",
        "\n",
        "\n",
        "\n",
        "\n",
        "\n",
        "\n",
        "\n",
        "# #trata '\\'' como caracter\n",
        "# raw_BPOCabespBPOMediservice= r'BPO-Cabesp\\r\\nBPO-Mediservice'\n",
        "# dados['produto'].loc[dados['produto'] == raw_BPOCabespBPOMediservice] = 'BPO'\n",
        "\n",
        "# #trata '\\' como caracter\n",
        "# raw_AvisodeSinistroBPOBVP= r'Aviso de Sinistro\\r\\nBPO-BVP'\n",
        "# dados['produto'].loc[dados['produto'] == raw_AvisodeSinistroBPOBVP] = 'BPO'\n",
        "\n",
        "# #trata '\\' como caracter\n",
        "# raw_BPOCabespFature= r'BPO-Cabesp\\r\\nFature'\n",
        "# dados['produto'].loc[dados['produto'] == raw_BPOCabespFature] = 'BPO'\n",
        "\n",
        "# #trata '\\' como caracter\n",
        "# raw_BPOBradescoBPOCabespBPOEconomusBPOFapesBPOLifeBPOMediservice = r'BPO-Bradesco\\r\\nBPO-Cabesp\\r\\nBPO-Economus\\r\\nBPO-Fapes\\r\\nBPO-Life\\r\\nBPO-Mediservice'\n",
        "# dados['produto'].loc[dados['produto'] == raw_BPOBradescoBPOCabespBPOEconomusBPOFapesBPOLifeBPOMediservice] = 'BPO'\n",
        "\n",
        "# #trata '\\' como caracter\n",
        "# raw_BPOBradescoBPOFapesBPOLife = r'BPO-Bradesco\\r\\nBPO-Fapes\\r\\nBPO-Life'\n",
        "# dados['produto'].loc[dados['produto'] == raw_BPOBradescoBPOFapesBPOLife] = 'BPO'\n",
        "\n",
        "# #trata '\\' como caracter\n",
        "# raw_AnaliseBPOBradesco = r'Analise\\r\\nBPO-Bradesco'\n",
        "# dados['produto'].loc[dados['produto'] == raw_AnaliseBPOBradesco] = 'BPO'\n",
        "\n",
        "# #trata '\\' como caracter\n",
        "# raw_BPOMediserviceFature = r'BPO-Mediservice\\r\\nFature'\n",
        "# dados['produto'].loc[dados['produto'] == raw_BPOMediserviceFature] = 'BPO'\n",
        "\n",
        "\n",
        "# #trata '\\' como caracter\n",
        "# raw_BPOBradescoBPOCabespBPOFapesBPOLifeBPOMediservice = r'BPO-Bradesco\\r\\nBPO-Cabesp\\r\\nBPO-Fapes\\r\\nBPO-Life\\r\\nBPO-Mediservice'\n",
        "# dados['produto'].loc[dados['produto'] == raw_BPOBradescoBPOCabespBPOFapesBPOLifeBPOMediservice] = 'BPO'\n",
        "\n",
        "# #trata '\\' como caracter\n",
        "# raw_BPOBradescoBPOMediservice = r'BPO-Bradesco\\r\\nBPO-Mediservice'\n",
        "# dados['produto'].loc[dados['produto'] == raw_BPOBradescoBPOMediservice] = 'BPO'\n",
        "\n",
        "# #trata '\\' como caracter\n",
        "# raw_AvisodeSinistrornrnBPOBVP = r'Aviso de Sinistro\\r\\n\\r\\nBPO-BVP'\n",
        "# dados['produto'].loc[dados['produto'] == raw_AvisodeSinistrornrnBPOBVP] = 'BPO'\n",
        "\n",
        "\n",
        "\n"
      ],
      "execution_count": null,
      "outputs": []
    },
    {
      "cell_type": "markdown",
      "metadata": {
        "id": "xbXPZhUmU5hJ"
      },
      "source": [
        "## 5.3 Produto <b>Autorize</b>\n",
        "***\n",
        "\n",
        "|PRODUTOS|\n",
        "|---|\n",
        "|Autorize\\r\\nFature|\n",
        "|Autorize\\r\\nAutorize Premium|\n",
        "|Autorize Premium\\r\\nAutorize Premium|\n",
        "\n",
        "\n"
      ]
    },
    {
      "cell_type": "code",
      "metadata": {
        "id": "GktkLM6Wy106"
      },
      "source": [
        "# #trata '\\' como caracter\n",
        "# raw_AutorizeFature= r'Autorize\\r\\nFature'\n",
        "# dados['produto'].loc[dados['produto'] == raw_AutorizeFature] = 'Autorize'"
      ],
      "execution_count": null,
      "outputs": []
    },
    {
      "cell_type": "markdown",
      "metadata": {
        "id": "zbHVAh-HZjqC"
      },
      "source": [
        "## 5.4 Produto <b>FATURE</b>\n",
        "***\n",
        "\n",
        "|PRODUTOS|\n",
        "|---|\n",
        "|Fature\\r\\nFature Auditado|"
      ]
    },
    {
      "cell_type": "code",
      "metadata": {
        "id": "DCE0CQn_ZwZm"
      },
      "source": [
        "# #trata '\\' como caracter\n",
        "# raw_FatureFatureAuditado = r'Fature\\r\\nFature Auditado'\n",
        "# dados['produto'].loc[dados['produto'] == raw_FatureFatureAuditado] = 'Fature'\n",
        "\n",
        "# #trata '\\' como caracter\n",
        "# raw_BPOBradescornFature = r'BPO-Bradesco\\r\\nFature'\n",
        "# dados['produto'].loc[dados['produto'] == raw_BPOBradescornFature] = 'FATURE'"
      ],
      "execution_count": null,
      "outputs": []
    },
    {
      "cell_type": "markdown",
      "metadata": {
        "id": "ehXuh_WD2RUO"
      },
      "source": [
        "## 5.5 Produto <b>AUTORIZE PREMIUM</b>\n",
        "***\n",
        "\n",
        "|PRODUTOS|\n",
        "|---|\n",
        "|Autorize Premium\\r\\nFature|"
      ]
    },
    {
      "cell_type": "code",
      "metadata": {
        "id": "1gY9WPYc2SJ6"
      },
      "source": [
        "# #trata '\\' como caracter\n",
        "# raw_AutorizePremiumFature = r'Autorize Premium\\r\\nFature'\n",
        "# dados['produto'].loc[dados['produto'] == raw_AutorizePremiumFature] = 'Autorize Premium'\n",
        "\n",
        "\n",
        "# #trata '\\' como caracter\n",
        "# raw_AutorizePremiumAutorizePremium   = r'Autorize Premium\\r\\nAutorize Premium'\n",
        "# dados['produto'].loc[dados['produto'] == raw_AutorizePremiumAutorizePremium] = 'Autorize Pemium'\n",
        "\n",
        "\n",
        "# #trata '\\' como caracter\n",
        "# raw_AutorizeAutorizePremium = r'Autorize\\r\\nAutorize Premium'\n",
        "# dados['produto'].loc[dados['produto'] == raw_AutorizeAutorizePremium] = 'Autorize Premium'"
      ],
      "execution_count": null,
      "outputs": []
    },
    {
      "cell_type": "markdown",
      "metadata": {
        "id": "py_mra6Q8y9A"
      },
      "source": [
        "## 5.6 Produto <b>FATURE PREMIUM</b>\n",
        "***\n",
        "\n",
        "|PRODUTOS|\n",
        "|---|\n",
        "|Autorize Premium\\r\\nFature|"
      ]
    },
    {
      "cell_type": "code",
      "metadata": {
        "id": "DXxAl0gz8zF6"
      },
      "source": [
        "#dados['produto'].loc[dados['produto'] == 'OCTANE'] = 'Fature Premium'"
      ],
      "execution_count": null,
      "outputs": []
    },
    {
      "cell_type": "markdown",
      "metadata": {
        "id": "QuFgHmrwVBu7"
      },
      "source": [
        "## Dados pós tratativa \n",
        "***"
      ]
    },
    {
      "cell_type": "code",
      "metadata": {
        "id": "ZCfZKx0RVFnC"
      },
      "source": [
        "#dados['produto'].value_counts()"
      ],
      "execution_count": null,
      "outputs": []
    },
    {
      "cell_type": "markdown",
      "metadata": {
        "id": "iODT1G_ZHnUd"
      },
      "source": [
        "# 6 Normalização do campo data\n",
        "***\n",
        "\n",
        "Para facilitar a separação de dados por período, neste tópico trataremos da normalização dos campos <b>data</b>.\n",
        "\n",
        "A intenção dessa tratativa é formatar os registros no formato <b>dd/mm/aaaa</b>"
      ]
    },
    {
      "cell_type": "markdown",
      "metadata": {
        "id": "pwwMSLQpMKUi"
      },
      "source": [
        "## 6.1 Tratativa <b>dt_criacao</b>\n",
        "***\n",
        "\n"
      ]
    },
    {
      "cell_type": "code",
      "metadata": {
        "id": "5UmmccihIOZa"
      },
      "source": [
        "\n",
        "\n",
        "# #formatação data - altera do formato dd/mm/aaaa para mm/dd/aaaa (se não fizermos isso, o data studio intrepreta as datas de forma errada)\n",
        "# serie = pd.Series (dados['dt_criacao'])\n",
        "# index = serie.keys()\n",
        "# ids_ = pd.Series(dados['id_solicitacao'])\n",
        "# s = []\n",
        "\n",
        "\n",
        "# for i in index:\n",
        "#   pt1 = serie[i][3:6]\n",
        "#   pt2 = serie[i][0:3]\n",
        "#   pt3 = serie[i][6:]\n",
        "    \n",
        "#   correcao = pt1 + pt2 + pt3\n",
        "#   s.append(correcao)\n",
        "\n",
        "# n=0\n",
        "# for i in ids_:\n",
        "\n",
        "#  dados['dt_criacao'].loc[dados['id_solicitacao'] == i] = s[n]\n",
        "#  n += 1\n"
      ],
      "execution_count": null,
      "outputs": []
    },
    {
      "cell_type": "markdown",
      "metadata": {
        "id": "Z3HiDYhxMemd"
      },
      "source": [
        "## 6.2 Tratativa <b>dt_fechamento</b>\n",
        "***"
      ]
    },
    {
      "cell_type": "code",
      "metadata": {
        "id": "zwH7gbISMkdb"
      },
      "source": [
        "\n",
        "# #Mesma formatação acima, para um campo diferente\n",
        "# serie = pd.Series (dados['dt_fechamento'])\n",
        "# index = serie.keys()\n",
        "# ids_ = pd.Series(dados['id_solicitacao'])\n",
        "# s = []\n",
        "\n",
        "\n",
        "\n",
        "# for i in index:\n",
        "#   if pd.isna(serie[i]):\n",
        "#     s.append('')\n",
        "#   else:  \n",
        "#     pt1 = serie[i][3:6]\n",
        "#     pt2 = serie[i][0:3]\n",
        "#     pt3 = serie[i][6:]\n",
        "    \n",
        "#     correcao = pt1 + pt2 + pt3  \n",
        "#     s.append(correcao)\n",
        "\n",
        "# n=0\n",
        "# for i in ids_:\n",
        "#  dados['dt_fechamento'].loc[dados['id_solicitacao'] == i] = s[n]\n",
        "#  n += 1\n"
      ],
      "execution_count": null,
      "outputs": []
    },
    {
      "cell_type": "markdown",
      "metadata": {
        "id": "YpFV8hzqNsAP"
      },
      "source": [
        "# 7 Inclusão e preenchimento do campo <b>subproduto</b> no relatório\n",
        "***\n",
        "\n",
        "\n",
        "Entendemos que há uma grande necessidade de maior especificidade na forma que as demandas são categorizadas hoje.\n",
        "\n",
        "A inserção deste campo atende justamente a este propósito, apontando de forma mais precisa <s>mas ainda não tanto quanto deve ser</s>  o problema onde ele realmente ocorre\n",
        "\n",
        "\n",
        "Para cumprirmos o objetivo proposto neste tópico será necessário, além da criação do campo, preenche-lo de forma coesa, coêrente com o problema apresentado em cada demanda.\n",
        "\n",
        "Para isso, já que esse campo é inexistente em nossa ferramenta ITSM, realizamos uma verificação detalhada em cada chamado aberto no mês de janeiro.\n",
        "\n",
        "\n",
        "<i>PS: a intenção é que este campo seja inserido o mais breve possível em nossa ferramenta, portanto este tópico é provisório <s>,em teoria</s></i>"
      ]
    },
    {
      "cell_type": "code",
      "metadata": {
        "id": "amOGFllxYcV1"
      },
      "source": [
        "#dados['subproduto'] = 'EM ANALISE'"
      ],
      "execution_count": null,
      "outputs": []
    },
    {
      "cell_type": "markdown",
      "metadata": {
        "id": "jH02CcQYEzNj"
      },
      "source": [
        "## Dados pré tratatativa"
      ]
    },
    {
      "cell_type": "code",
      "metadata": {
        "id": "3MGzGmf3E9V6"
      },
      "source": [
        "#dados['subproduto'].value_counts()"
      ],
      "execution_count": null,
      "outputs": []
    },
    {
      "cell_type": "markdown",
      "metadata": {
        "id": "RHeZ8bsUOPwt"
      },
      "source": [
        "## Preenchimento\n",
        "***\n",
        "\n"
      ]
    },
    {
      "cell_type": "markdown",
      "metadata": {
        "id": "Cn2cfTFNE8ag"
      },
      "source": [
        "### 7.1 <b>Autorize</b>\n",
        "***"
      ]
    },
    {
      "cell_type": "markdown",
      "metadata": {
        "id": "ynatlGhzy13f"
      },
      "source": [
        "#### 7.1.1 subproduto <b>Autorize - Portal </b> \n",
        "***"
      ]
    },
    {
      "cell_type": "code",
      "metadata": {
        "id": "2FkeRSoUbCTY"
      },
      "source": [
        "#PreencheCampos.preenchimento('subproduto','Autorize - Orizon Online',[284922,284301,274972,274384,271714,275414,274676,273494,273088,271623,271604,271393,270659,270264,281882,276031,268481,268837,267866])"
      ],
      "execution_count": null,
      "outputs": []
    },
    {
      "cell_type": "markdown",
      "metadata": {
        "id": "-BrNKNMyv0K4"
      },
      "source": [
        "#### 7.1.2 subproduto <b>Autorize - NEGATIVAS </b> \n",
        "***\n"
      ]
    },
    {
      "cell_type": "code",
      "metadata": {
        "id": "AxqbElsOvy18"
      },
      "source": [
        "#PreencheCampos.preenchimento('subproduto','Autorize - NEGATIVAS',[284414,284348,284349,274974,283986,283598,282677,282437,281781,279914,279591,279120,278832,278561,278490,277409,277106,277047,276322,275531,270992,274536,275173,283657,282912,283563,272641,278218,280274,283575,275606,270313,271779,272655,272809,272968,273595,274024,274094,274944,274947,274949,275423,276028,276030,277057,277059,277065,277101,277669,277794,277999,278015,279168,279212,279297,279549,280041,280939,281895,282537,283212,283573,281926,279138,268618,267364,267525,267644,267648,267687,267707,267709,267976,268301,268369,268479,268802,268897,269009,269015,269021,269050,284959 ])  "
      ],
      "execution_count": null,
      "outputs": []
    },
    {
      "cell_type": "markdown",
      "metadata": {
        "id": "Nbdxft31UNYj"
      },
      "source": [
        "#### 7.1.3 subproduto <b>Autorize - Webservice </b> \n",
        "***"
      ]
    },
    {
      "cell_type": "code",
      "metadata": {
        "id": "xmAEBKSgUZRi"
      },
      "source": [
        "#PreencheCampos.preenchimento('subproduto','Autorize - Webservice',[271709,272556,278795,282054,271521,274796,277271,282927,283585,268067,267991,265642])"
      ],
      "execution_count": null,
      "outputs": []
    },
    {
      "cell_type": "markdown",
      "metadata": {
        "id": "CtUmQn0fY7Ow"
      },
      "source": [
        "#### 7.1.4 subproduto <b>Autorize - Processamento de cargas</b> \n",
        "***"
      ]
    },
    {
      "cell_type": "code",
      "metadata": {
        "id": "3tqjERg1Y8ex"
      },
      "source": [
        "#PreencheCampos.preenchimento('subproduto','Autorize - Processamento de cargas' ,[284745,274746,268228])"
      ],
      "execution_count": null,
      "outputs": []
    },
    {
      "cell_type": "markdown",
      "metadata": {
        "id": "QfjnkuHqvj63"
      },
      "source": [
        "#### 7.1.5 subproduto <b>Fechamento Automático de lotes</b> \n",
        "***"
      ]
    },
    {
      "cell_type": "code",
      "metadata": {
        "id": "I0ytrRNWvrSD"
      },
      "source": [
        "#PreencheCampos.preenchimento('subproduto','Autorize - Fechamento Automático de lotes' ,[273827,283616,273444,275660,275326,268912] ) "
      ],
      "execution_count": null,
      "outputs": []
    },
    {
      "cell_type": "markdown",
      "metadata": {
        "id": "dULyDnI0HDta"
      },
      "source": [
        "#### 7.1.6 subproduto <b>consultaDB/Log/xml Autorize </b> \n",
        "***"
      ]
    },
    {
      "cell_type": "code",
      "metadata": {
        "id": "zAVjXN4lHD3n"
      },
      "source": [
        "#PreencheCampos.preenchimento('subproduto','Autorize - consultaDB/Log/xml',[284780,283895,280168,278405,275506,275820,276297,278137,278857,281088,281685,282356,278857])"
      ],
      "execution_count": null,
      "outputs": []
    },
    {
      "cell_type": "markdown",
      "metadata": {
        "id": "ncml5OEuKgSw"
      },
      "source": [
        "#### 7.1.7 subproduto <b>Polimed Web</b> \n",
        "***"
      ]
    },
    {
      "cell_type": "code",
      "metadata": {
        "id": "YjbNKaGgKgcb"
      },
      "source": [
        "#PreencheCampos.preenchimento('subproduto','Autorize - Web',[282379,282213,281579,273253,269956,283019,283874,274483,282928])"
      ],
      "execution_count": null,
      "outputs": []
    },
    {
      "cell_type": "markdown",
      "metadata": {
        "id": "SNZKI2JI3HDo"
      },
      "source": [
        "#### 7.1.8 subproduto <b>Conectividade</b> \n",
        "***"
      ]
    },
    {
      "cell_type": "code",
      "metadata": {
        "id": "gqBMoaM63HT8"
      },
      "source": [
        "#PreencheCampos.preenchimento('subproduto','Autorize - Conectividade',[274612,283646,283570,282695,282381,281711,280412,279752,279456,279455,278604,277727,277105,277103,275721,273979,272717,270843,270047])"
      ],
      "execution_count": null,
      "outputs": []
    },
    {
      "cell_type": "markdown",
      "metadata": {
        "id": "sgH4OJ2Z9rtZ"
      },
      "source": [
        "#### 7.1.9 subproduto <b>Funcionalidades do produto</b> \n",
        "***"
      ]
    },
    {
      "cell_type": "code",
      "metadata": {
        "id": "swkR2RSdWceW"
      },
      "source": [
        "#PreencheCampos.preenchimento('subproduto','Autorize - Funcionalidades do produto ',[276037,277100,277510,277729,277929,279187,279475,279744,280200,280315,281609,281723,281733,281774,281932,281977,282074,282716,282967,283468,284003,])"
      ],
      "execution_count": null,
      "outputs": []
    },
    {
      "cell_type": "markdown",
      "metadata": {
        "id": "WCV43oPn26lt"
      },
      "source": [
        "### 7.2 <b>Fature</b>\n",
        "***"
      ]
    },
    {
      "cell_type": "markdown",
      "metadata": {
        "id": "l8IM0umxwM_L"
      },
      "source": [
        "#### 7.2.1 subproduto <b> Regras</b> \n",
        "***\n"
      ]
    },
    {
      "cell_type": "code",
      "metadata": {
        "id": "2ueEk4t8wVPA"
      },
      "source": [
        "#PreencheCampos.preenchimento('subproduto','Fature - Regras',[284874,284894,284903,284904,284907,284920,284933,284728,284776,284782,284783,284616,284622,284449,283463,282851,282787,282673,282297,282226,282223,282224,281947,281766,279402,279139,278924,284285,278548,278178,277979,278029,277092,277646,277104,276937,276740,284052,284146,275799,275696,275325,274547,274549,274434,273956,274015,273576,273448,273307,271799,271369,270278,269975,270507,280950,271710,274261,275535,278052,278353,278359,279301,279997,280185,282569,283322,270716,271065,271715,272762,272766,275306,275334,275652,275672,277689,277699,278214,278427,280086,280348,280458,280851,275483,274413,282800,283790,283612,267666,273022,280791,279596,276673,277082,270736,275698,274970,271559,271361,275302,278846,270613,272057,281188,271534,276463,274115,279675,276041,274222,275716,273020,278771,278781,279340,272009,274153,278138,271316,283445,277362,274605,268502,275709,271808,272151,272153,272160,272161,272171,272182,272186,272558,270261,267520,267886,268045,268125,268333,268337,268361,268365,268388,268420,268438,268443,268506,268507,268614,268823,268855,269010,269125,269137,269138,269139,269141,269142,269143,269145,269146,269214,269222,269223,269224,269225,269229,269237,269238,269241,269242,269243,269402,269066,269828,270306,270310,270446,270702,270704,270706,270708,270712,271948,271949,271950,271951,271953,271954,271955,271956,272280,272281,272282,272580,272675,272676,272677,272815,273389,273462,274576,274943,275023,275153,275190,275191,275192,275194,275195,275197,275199,275201,275248,276337,276339,277069,278004,278008,278010,278064,278066,278067,278068,278069,278073,278626,278864,278865,278866,278952,278994,279121,279156,279160,279162,279164,279251,279254,279256,279258,279260,279262,279264,279268,279293,279298,279909,279910,279922,279928,279930,279962,280013,280079,280095,280182,280204,280208,280209,280663,280797,281234,281521,281704,281782,281890,281893,281896,281925,281928,283217] )"
      ],
      "execution_count": null,
      "outputs": []
    },
    {
      "cell_type": "markdown",
      "metadata": {
        "id": "27rUqRTtwnnS"
      },
      "source": [
        "#### 7.2.2 subproduto <b>Portal</b> \n",
        "***"
      ]
    },
    {
      "cell_type": "code",
      "metadata": {
        "id": "e8zW0W3Lws64"
      },
      "source": [
        "#PreencheCampos.preenchimento('subproduto','Fature - Portal',[283748,278060,277278,274386,274077,272703,271104,270282,270557,277490,270475,274681,283897,283905,283906,283907,283908,283909,283999,284002,283317,279891,273444,273137,275371,275411,275413,281040,282342,282353,283753,270130,270128,267635,267818,268113,268331,268490,268747,269256,269374,269655,269798,269818,269820,284854,284954] )"
      ],
      "execution_count": null,
      "outputs": []
    },
    {
      "cell_type": "markdown",
      "metadata": {
        "id": "A8nJylfTwxOA"
      },
      "source": [
        "#### 7.2.3 subproduto <b>Processamento de Cargas </b> \n",
        "***"
      ]
    },
    {
      "cell_type": "code",
      "metadata": {
        "id": "ZTUW2JUsw4Od"
      },
      "source": [
        "#PreencheCampos.preenchimento('subproduto','Fature - Processamento de Cargas',[267634,268135])  "
      ],
      "execution_count": null,
      "outputs": []
    },
    {
      "cell_type": "markdown",
      "metadata": {
        "id": "lliQ8SbHw8o-"
      },
      "source": [
        "#### 7.2.4 subproduto <b>Solicitação de dados/xml/debug</b> \n",
        "***"
      ]
    },
    {
      "cell_type": "code",
      "metadata": {
        "id": "4Dj3NJ1xxCnq"
      },
      "source": [
        "#PreencheCampos.preenchimento('subproduto', 'Fature - Solicitação de dados/xml/debug', [283844] )"
      ],
      "execution_count": null,
      "outputs": []
    },
    {
      "cell_type": "markdown",
      "metadata": {
        "id": "jUYIMrM0yM04"
      },
      "source": [
        "#### 7.2.5 subproduto <b>SGO</b> \n",
        "***"
      ]
    },
    {
      "cell_type": "code",
      "metadata": {
        "id": "FByMOKPTyP1q"
      },
      "source": [
        "#PreencheCampos.preenchimento('subproduto','Fature - SGO',[281586,281574,280424,278469,277048,271094,274241,276025,276198,276320,274764,274241,273416,270871,270069,270068,270000,270059,284034,276004,277449,277980,278647,280757,281562,281568,281760,268598,269252,269449,284176,284726])"
      ],
      "execution_count": null,
      "outputs": []
    },
    {
      "cell_type": "markdown",
      "metadata": {
        "id": "cUHnwAbjuaIK"
      },
      "source": [
        "#### 7.2.6 subproduto <b>Exportação de Lotes</b> \n",
        "***"
      ]
    },
    {
      "cell_type": "code",
      "metadata": {
        "id": "RwgtQjTbufAa"
      },
      "source": [
        "#PreencheCampos.preenchimento('subproduto','Fature - Exportação de Lotes', [270910,284609,282261,284184,284090,284044,284027,283987,283963,283850,283662,282945,281412,280156,279236,279211,278928,278369,277480,277488,279688,284072,277329,277259,277170,276459,276575,284089,275434,275402,275298,274826,274684,274453,273944,272657,272545,272112,271474,270452,273799,275300,276886,276910,280048,282799,283994,272125,272133,272417,272418,283830,273728,267859,268208])"
      ],
      "execution_count": null,
      "outputs": []
    },
    {
      "cell_type": "markdown",
      "metadata": {
        "id": "fjqT4CsJI7dj"
      },
      "source": [
        "#### 7.2.8 subproduto <b>Webservise </b> \n",
        "***"
      ]
    },
    {
      "cell_type": "code",
      "metadata": {
        "id": "cZbMQAxiI7o8"
      },
      "source": [
        "#PreencheCampos.preenchimento('subproduto','Fature - Webservise',[284227,282722,278414,273770,272490,271834,271280,272224,261305])"
      ],
      "execution_count": null,
      "outputs": []
    },
    {
      "cell_type": "markdown",
      "metadata": {
        "id": "t37rgm6VHbpj"
      },
      "source": [
        "#### 7.2.9 subproduto <b>ConsultaDB/logs/xml motor de regras </b> \n",
        "***"
      ]
    },
    {
      "cell_type": "code",
      "metadata": {
        "id": "64Ln0wfRHb0f"
      },
      "source": [
        "#PreencheCampos.preenchimento('subproduto','Fature - ConsultaDB/logs/xml motor de regras',[283844,280822,273012,273728,269714,274141,278903,278903,274634,269079,282287,277786,277323,273728,269714,274141,278903,278903,274634,269079])"
      ],
      "execution_count": null,
      "outputs": []
    },
    {
      "cell_type": "markdown",
      "metadata": {
        "id": "9eL0qeS9txv3"
      },
      "source": [
        "#### 7.2.10 subproduto <b>Baixa prateleira Bradesco</b> \n",
        "***\n"
      ]
    },
    {
      "cell_type": "code",
      "metadata": {
        "id": "rNc6QAo8uVrq"
      },
      "source": [
        "#PreencheCampos.preenchimento('subproduto','Fature - Baixa prateleira Bradesco',[268919])"
      ],
      "execution_count": null,
      "outputs": []
    },
    {
      "cell_type": "markdown",
      "metadata": {
        "id": "BQ79o5ICKcz6"
      },
      "source": [
        "#### 7.2.11 subproduto <b>conectividade</b> \n",
        "***"
      ]
    },
    {
      "cell_type": "code",
      "metadata": {
        "id": "qYNdirI3Kc9a"
      },
      "source": [
        "#PreencheCampos.preenchimento('subproduto','Fature - Conectividade',[270419,278361,275504,275315,269960,281606])"
      ],
      "execution_count": null,
      "outputs": []
    },
    {
      "cell_type": "markdown",
      "metadata": {
        "id": "EpOXrMJ128eu"
      },
      "source": [
        "### 7.3 <b>BPO</b>\n",
        "***"
      ]
    },
    {
      "cell_type": "markdown",
      "metadata": {
        "id": "mfXdnO_Sz3p3"
      },
      "source": [
        "\n",
        "#### 7.3.1 subproduto <b>BPO Cabesp</b> \n",
        "***"
      ]
    },
    {
      "cell_type": "code",
      "metadata": {
        "id": "2bFQDJuqz5rA"
      },
      "source": [
        "#PreencheCampos.preenchimento('subproduto','BPO - Cabesp',[283961,284095,278820,271643,272108,276528,277619,279177,279248,279880,280738,280942,281146,281313,282436,282706,267767])"
      ],
      "execution_count": null,
      "outputs": []
    },
    {
      "cell_type": "markdown",
      "metadata": {
        "id": "uSWIx0vL0sFO"
      },
      "source": [
        "#### 7.3.2 subproduto <b>BVP</b> \n",
        "***"
      ]
    },
    {
      "cell_type": "code",
      "metadata": {
        "id": "Ej1WwE_U0xDN"
      },
      "source": [
        "#PreencheCampos.preenchimento('subproduto','BPO - BVP',[275359,276319,275179,275417,277706,281922,268330,268308])"
      ],
      "execution_count": null,
      "outputs": []
    },
    {
      "cell_type": "markdown",
      "metadata": {
        "id": "QxC8fT8204VD"
      },
      "source": [
        "#### 7.3.3 subproduto <b>Plataforma de Sinistro</b> \n",
        "***"
      ]
    },
    {
      "cell_type": "code",
      "metadata": {
        "id": "bjTH-80E04ur"
      },
      "source": [
        "#PreencheCampos.preenchimento('subproduto','BPO - Plataforma de Sinistro' ,[284735,284739,284792,284610,283929,277496,283709,269643,269215,268596,268806])"
      ],
      "execution_count": null,
      "outputs": []
    },
    {
      "cell_type": "markdown",
      "metadata": {
        "id": "tIfm65mi1ibc"
      },
      "source": [
        "#### 7.3.4 subproduto <b>BPO Mediservice</b> \n",
        "***"
      ]
    },
    {
      "cell_type": "code",
      "metadata": {
        "id": "4QRbnt1R1phA"
      },
      "source": [
        "#PreencheCampos.preenchimento('subproduto', 'BPO - Mediservice',[271011,274103,274390,279359,279540,279893,275673,277770,278539,280937,276029,268911,269289])"
      ],
      "execution_count": null,
      "outputs": []
    },
    {
      "cell_type": "markdown",
      "metadata": {
        "id": "VUbwvIh51u14"
      },
      "source": [
        "#### 7.3.5 subproduto <b>BPO Bradesco</b> \n",
        "***"
      ]
    },
    {
      "cell_type": "code",
      "metadata": {
        "id": "VCaWaYTw1_eV"
      },
      "source": [
        "#PreencheCampos.preenchimento('subproduto','BPO - Bradesco',[284352,283826,271491,271317,270825,269944,271691,273527,274939,275699,276052,276147,276266,276310,277204,277332,278106,278915,279429,280164,280326,280782,282491,283076,283733,276662,277643,282268,279519,280946,282220,282222,282363,282727,282739,269271,269789,269588,269284,267883,269390,284607])"
      ],
      "execution_count": null,
      "outputs": []
    },
    {
      "cell_type": "markdown",
      "metadata": {
        "id": "gF0Zul4c2Oo2"
      },
      "source": [
        "#### 7.3.6 subproduto <b>OPME</b> \n",
        "***"
      ]
    },
    {
      "cell_type": "code",
      "metadata": {
        "id": "5K_usJ6PNsVv"
      },
      "source": [
        "#PreencheCampos.preenchimento('subproduto','BPO - OPME',[271282,282842,280887,279412,265708,266700,267305])"
      ],
      "execution_count": null,
      "outputs": []
    },
    {
      "cell_type": "markdown",
      "metadata": {
        "id": "anpZj1zhsJ5t"
      },
      "source": [
        "#### 7.3.7 subproduto <b>PORTAL</b> \n",
        "***"
      ]
    },
    {
      "cell_type": "code",
      "metadata": {
        "id": "LXqMAOhKsKDl"
      },
      "source": [
        "#PreencheCampos.preenchimento('subproduto','BPO - Portal',[272941,274648,275802,276191,280931,281703])"
      ],
      "execution_count": null,
      "outputs": []
    },
    {
      "cell_type": "markdown",
      "metadata": {
        "id": "CthqWb80IitN"
      },
      "source": [
        "#### 7.3.8 subproduto <b>BPO - LIFE</b> \n",
        "***"
      ]
    },
    {
      "cell_type": "code",
      "metadata": {
        "id": "nKlScKWtIi1b"
      },
      "source": [
        "#PreencheCampos.preenchimento('subproduto','BPO - LIFE',[270975,271331,276314])"
      ],
      "execution_count": null,
      "outputs": []
    },
    {
      "cell_type": "markdown",
      "metadata": {
        "id": "ztWl31F8m_58"
      },
      "source": [
        "### 7.4  <b>FATURE PREMIUM</b> \n",
        "***"
      ]
    },
    {
      "cell_type": "markdown",
      "metadata": {
        "id": "6BaJzVQTnV4R"
      },
      "source": [
        "#### 7.4.1 subproduto <b>Demonstrativos</b> \n",
        "***"
      ]
    },
    {
      "cell_type": "code",
      "metadata": {
        "id": "A5ml5e7xnA9a"
      },
      "source": [
        "#PreencheCampos.preenchimento('subproduto','Fature Premium - Demonstrativos',[284222,276718,283939,283822,278588,274441,276189,277678,269721,270045,270506,270575,271347,271372,271638,271684,271723,271999,272121,272612,272650,272697,273085,273133,274554,274748,275224,275329,275383,275431,275898,276076,277052,277148,277205,277447,277805,278222,278397,279250,280160,280328,281572,282263,283081,283453,269273,269350,67352,267456,267751,268219,269112,267352,268620,269571,270070,270217,270389,270562,270569,270794,270865,270999,271050,271323,271337,271454,271702,271898,272120,272513,273146,273186,274169,274220,274629,274921,276918,277874,278039,278116,278525,278770,278776,278968,280054,284765,284930])"
      ],
      "execution_count": null,
      "outputs": []
    },
    {
      "cell_type": "markdown",
      "metadata": {
        "id": "SHUCwjAzpe4u"
      },
      "source": [
        "#### 7.4.2 subproduto <b>Regras</b> \n",
        "***"
      ]
    },
    {
      "cell_type": "code",
      "metadata": {
        "id": "xg8j5s5qpfDn"
      },
      "source": [
        "#PreencheCampos.preenchimento('subproduto','fature premium - regras',[277047,277106,277727,282437,283598,280123,281700,272777,272951,280562,280567,282845,283321,280957,272782,279506,279180,273402,278569,278651,274675])"
      ],
      "execution_count": null,
      "outputs": []
    },
    {
      "cell_type": "markdown",
      "metadata": {
        "id": "VUp5LA06IidQ"
      },
      "source": [
        "#### 7.4.3 subproduto <b>log/xml motor de regras </b> \n",
        "***"
      ]
    },
    {
      "cell_type": "code",
      "metadata": {
        "id": "SH8NJA9_Ir4a"
      },
      "source": [
        "#PreencheCampos.preenchimento('subproduto','Fature premium - xml demonstrativos',[271328,279838,283187])"
      ],
      "execution_count": null,
      "outputs": []
    },
    {
      "cell_type": "markdown",
      "metadata": {
        "id": "-AVFLtYALhN1"
      },
      "source": [
        "#### 7.4.4 subproduto <b>Recurso de glosas</b> \n",
        "***"
      ]
    },
    {
      "cell_type": "code",
      "metadata": {
        "id": "eRTucjbpLhem"
      },
      "source": [
        "#PreencheCampos.preenchimento('subproduto','Fature premium - Recurso de glosa',[284522,270478,277445,269645,269962,273347,273356,275621,275903,276089,276194,276348,276970,277119,277624,277788,277924,277972,278001,280651,281600,282048,282668])"
      ],
      "execution_count": null,
      "outputs": []
    },
    {
      "cell_type": "markdown",
      "metadata": {
        "id": "PLz7jiU_9kGo"
      },
      "source": [
        "#### 7.4.5 subproduto <b>Contingência</b> \n",
        "***"
      ]
    },
    {
      "cell_type": "code",
      "metadata": {
        "id": "BmIFT5EB9kQR"
      },
      "source": [
        "#PreencheCampos.preenchimento('subproduto','Fature premium - Contingência',[274672,274932])"
      ],
      "execution_count": null,
      "outputs": []
    },
    {
      "cell_type": "markdown",
      "metadata": {
        "id": "bjr8pOwb-2g-"
      },
      "source": [
        "#### 7.4.6 subproduto <b>Processamento de lotes</b> \n",
        "***"
      ]
    },
    {
      "cell_type": "code",
      "metadata": {
        "id": "1MREgIUH-2q0"
      },
      "source": [
        "#PreencheCampos.preenchimento('subproduto','Fature premium -processamento de arquivos',[271640,270494])"
      ],
      "execution_count": null,
      "outputs": []
    },
    {
      "cell_type": "markdown",
      "metadata": {
        "id": "0wl6sVsi_0Qw"
      },
      "source": [
        "#### 7.4.7 subproduto <b>Entrega de arquivos</b> \n",
        "***"
      ]
    },
    {
      "cell_type": "code",
      "metadata": {
        "id": "UZk-eaww_0ZK"
      },
      "source": [
        "#PreencheCampos.preenchimento('subproduto','Fature premium - entrega de arquivos',[276579])"
      ],
      "execution_count": null,
      "outputs": []
    },
    {
      "cell_type": "markdown",
      "metadata": {
        "id": "lC9iTuKaAlrl"
      },
      "source": [
        "#### 7.4.8 subproduto <b>Portal</b> \n",
        "***"
      ]
    },
    {
      "cell_type": "code",
      "metadata": {
        "id": "WC5JCsDjAl1x"
      },
      "source": [
        "#PreencheCampos.preenchimento('subproduto','Fature premium - Portal',[281613,277818])"
      ],
      "execution_count": null,
      "outputs": []
    },
    {
      "cell_type": "markdown",
      "metadata": {
        "id": "KpaZliRfytZc"
      },
      "source": [
        "### 7.5  <b>FATURE IMAGEM</b> "
      ]
    },
    {
      "cell_type": "markdown",
      "metadata": {
        "id": "JAEtkkmzywYC"
      },
      "source": [
        "#### 7.5.1 subproduto <b>Funcionalidades do Produto</b> "
      ]
    },
    {
      "cell_type": "code",
      "metadata": {
        "id": "zag8_HxozMSF"
      },
      "source": [
        "#PreencheCampos.preenchimento('subproduto','Fature imagem - anexador de imagens',[284750,278597,277063,277050,282246,275966,267464,267836,268116])"
      ],
      "execution_count": null,
      "outputs": []
    },
    {
      "cell_type": "markdown",
      "metadata": {
        "id": "7kfMz4qb2NXu"
      },
      "source": [
        "#### 7.5.2 subproduto <b>ENVIO DE IMAGENS</b> "
      ]
    },
    {
      "cell_type": "code",
      "metadata": {
        "id": "4EhlIf5c2Nzt"
      },
      "source": [
        "#PreencheCampos.preenchimento('subproduto','fature imagem - envio de imagens',[282812,282391,284352,273380,282314,281427,274931,276053,278922,282407,269361,269611,270583,270797,271722,267823])"
      ],
      "execution_count": null,
      "outputs": []
    },
    {
      "cell_type": "markdown",
      "metadata": {
        "id": "O6H1H5qi8Zoz"
      },
      "source": [
        "### 7.6  <b>ANALISE</b> "
      ]
    },
    {
      "cell_type": "markdown",
      "metadata": {
        "id": "_KevTRxS8aqZ"
      },
      "source": [
        "#### 7.6.1 subproduto <b>Funcionalidades do produto</b> "
      ]
    },
    {
      "cell_type": "code",
      "metadata": {
        "id": "U1E28amQ8ZHw"
      },
      "source": [
        "#PreencheCampos.preenchimento('subproduto','Analise -  Funcionalidades do produto',[283991,269520,269554,271775,271886,273863,273988,276789,277032,278462,279356,279367,281043,281715,281990,282665,282960,283020,283257,269481,269520,269554,271775,277120,268750])"
      ],
      "execution_count": null,
      "outputs": []
    },
    {
      "cell_type": "markdown",
      "metadata": {
        "id": "B69V2InRaBbN"
      },
      "source": [
        "#### 7.6.2 subproduto <b>Conectividade</b> "
      ]
    },
    {
      "cell_type": "code",
      "metadata": {
        "id": "BxwW3x9naBki"
      },
      "source": [
        "#PreencheCampos.preenchimento('subproduto','Analise - Conectividade',[269481,272312])"
      ],
      "execution_count": null,
      "outputs": []
    },
    {
      "cell_type": "markdown",
      "metadata": {
        "id": "Ls5LwLCsqPD_"
      },
      "source": [
        "### 7.7  <b>FRENTE AUTOMATIZADA</b> "
      ]
    },
    {
      "cell_type": "markdown",
      "metadata": {
        "id": "6MItLcN1qPQD"
      },
      "source": [
        "#### 7.7.1 subproduto <b>Regras</b> "
      ]
    },
    {
      "cell_type": "code",
      "metadata": {
        "id": "_cxCsH7nqPZz"
      },
      "source": [
        "#PreencheCampos.preenchimento('subproduto','frente automatizada - regras',[270514])"
      ],
      "execution_count": null,
      "outputs": []
    },
    {
      "cell_type": "markdown",
      "metadata": {
        "id": "e8ogi_y99xWv"
      },
      "source": [
        "### 7.8  <b>FATURE AUDITADO</b> "
      ]
    },
    {
      "cell_type": "markdown",
      "metadata": {
        "id": "P16iI54S9xpN"
      },
      "source": [
        "#### 7.8.1 subproduto <b>AUDIÇÃO DE LOTES</b> "
      ]
    },
    {
      "cell_type": "code",
      "metadata": {
        "id": "nxC0HpKq9wgw"
      },
      "source": [
        "#PreencheCampos.preenchimento('subproduto','FATURE AUDITADO - AUDIÇÃO DE LOTES',[277291,270935,271900,274139,268812])"
      ],
      "execution_count": null,
      "outputs": []
    },
    {
      "cell_type": "markdown",
      "metadata": {
        "id": "iytZArW-yyKj"
      },
      "source": [
        "#### 7.8.2 subproduto <b>CONECTIVIDADE</b> "
      ]
    },
    {
      "cell_type": "code",
      "metadata": {
        "id": "K_MowOLjyyuM"
      },
      "source": [
        "#PreencheCampos.preenchimento('subproduto','FATURE AUDITADO - conectividade',[268417,270923])"
      ],
      "execution_count": null,
      "outputs": []
    },
    {
      "cell_type": "markdown",
      "metadata": {
        "id": "v67Wh88ssW6f"
      },
      "source": [
        "### 7.9  <b>AUTORIZE PREMIUM</b> \n"
      ]
    },
    {
      "cell_type": "markdown",
      "metadata": {
        "id": "oU_Tp9WOr74n"
      },
      "source": [
        "#### 7.9.1 subproduto <b>NEGATIVAS</b> "
      ]
    },
    {
      "cell_type": "code",
      "metadata": {
        "id": "JFsWNn83r8D9"
      },
      "source": [
        "#PreencheCampos.preenchimento('subproduto','Autorize Premium - NEGATIVAS',[274960,268397,275466,268397,275466])"
      ],
      "execution_count": null,
      "outputs": []
    },
    {
      "cell_type": "markdown",
      "metadata": {
        "id": "YcwGM3AJebhG"
      },
      "source": [
        "#### 7.9.2 subproduto <b>Funcionalidades do produto</b> \n",
        "***"
      ]
    },
    {
      "cell_type": "code",
      "metadata": {
        "id": "DWAYlZm2ebqZ"
      },
      "source": [
        "#PreencheCampos.preenchimento('subproduto','Autorize Premium - Funcionalidades do produto',[282594,281881,270579])"
      ],
      "execution_count": null,
      "outputs": []
    },
    {
      "cell_type": "markdown",
      "metadata": {
        "id": "CoPbQr1XucTd"
      },
      "source": [
        "#### 7.9.2 subproduto <b>Conectividade</b> \n",
        "***"
      ]
    },
    {
      "cell_type": "code",
      "metadata": {
        "id": "9hB2SR7auceD"
      },
      "source": [
        "#PreencheCampos.preenchimento('subproduto','Autorize Premium - Conectividade',[273297,274950])"
      ],
      "execution_count": null,
      "outputs": []
    },
    {
      "cell_type": "markdown",
      "metadata": {
        "id": "AS3M4JQoOcUQ"
      },
      "source": [
        "## dados pós tratativa"
      ]
    },
    {
      "cell_type": "code",
      "metadata": {
        "id": "Y7dJBOl4OiS0"
      },
      "source": [
        "#dados['subproduto'].value_counts()"
      ],
      "execution_count": null,
      "outputs": []
    },
    {
      "cell_type": "markdown",
      "metadata": {
        "id": "wq9E41INTjvp"
      },
      "source": [
        "# 8 Inclusão e preenchimento do campo <b>conclusao</b> no relatório\n",
        "***\n",
        "\n",
        "Esse Tópico segue a mesma lógica do tópico 7, porém nele criamos e preenchemos o campo <b>conclusao</b>.\n",
        "\n",
        "O intuito é agregar as diversas<s>, e as vezes até sem sentido</s> subcategorias em apenas 3 motivos que indicam:\n",
        "\n",
        "1.   Solicitações enviadas para equipe DEV\n",
        "2.   Solicitações Tratadas pela equipe Middleware\n",
        "3.   Solicitações abertas ou enviadas a equipe Middleware erronêamente\n"
      ]
    },
    {
      "cell_type": "code",
      "metadata": {
        "id": "btVObNMDTkAH"
      },
      "source": [
        "# Criação do campo\n",
        "#dados['conclusao'] = 0"
      ],
      "execution_count": null,
      "outputs": []
    },
    {
      "cell_type": "markdown",
      "metadata": {
        "id": "H_dGJiIpTlBh"
      },
      "source": [
        "## Dados pré tratatativa\n",
        "\n",
        "***"
      ]
    },
    {
      "cell_type": "code",
      "metadata": {
        "id": "2AQDOw7hWkOr"
      },
      "source": [
        "#dados['conclusao'].value_counts()"
      ],
      "execution_count": null,
      "outputs": []
    },
    {
      "cell_type": "markdown",
      "metadata": {
        "id": "HozhzOEhXNbZ"
      },
      "source": [
        "##Preenchimento\n",
        "\n",
        "***"
      ]
    },
    {
      "cell_type": "markdown",
      "metadata": {
        "id": "X1pygxiMXpWa"
      },
      "source": [
        "### 8.1 Motivo - <b>AJUSTE DEV</b>"
      ]
    },
    {
      "cell_type": "code",
      "metadata": {
        "id": "2pEiDBfwXNs5"
      },
      "source": [
        "#PreencheCampos.preenchimento('conclusao','AJUSTE DEV',[287855,287863,287864,289325,290338,290113,290117,290121,290099,290070,290035,290062,289945,289944,289904,289817,287484,289339,287399,286881,286878,286389,286107,286067,285843,285611,286275,286107,286067,285843,285611,267666,285027,281669,284854,282696,282668,282310,281778,281733,281777,280950,280690,280411,280212,277929,267464,267666,267836,268116,268330,268502,268506,268837,269010,269066,269520,269643,270494,271317,271347,271491,271643,271714,271779,271808,272151,272153,272160,272161,272171,272182,272186,272558,272777,273022,273494,273527,274648,274681,275302,276662,276789,277059,277101,277105,277106,277259,277972,278001,278039,278369,279356,279367,279540,279549,281088,281188,281715,282223,282224,282665])"
      ],
      "execution_count": null,
      "outputs": []
    },
    {
      "cell_type": "markdown",
      "metadata": {
        "id": "Xehs-_sYZfBt"
      },
      "source": [
        "### 8.2 Motivo -  <b>TRATATIVA MIDDLEWARE</b>\n",
        "***"
      ]
    },
    {
      "cell_type": "code",
      "metadata": {
        "id": "iyDByb7BZfPp"
      },
      "source": [
        "#PreencheCampos.preenchimento('conclusao','tratativa Middleware',[284616,285016,290659,290673,290904,290474,290402,290341,290262,290137,290149,290086,290066,289949,289895,289780,289746,289664,289657,289560,289406,289405,289364,289250,288614,288152,287843,286965,286442,286190,289339,289203,289029,289021,289005,288942,288646,288303,288248,287668,287549,287537,287497,287384,287268,287077,287061,287050,286949,286927,286924,286677,286602,286573,286483,286459,286449,286344,286327,286307,286282,286288,286290,286297,286275,285918,285826,285806,286344,286342,286328,286327,286297,286290,286288,286282,286307,285918,285826,285806,267352,285186,285185,285107,285101,285029,284780,278342,277732,275606,271699,267976,268113,268301,270000,270059,270068,270923,270935,271954,271999,272057,272224,272312,272417,272418,272490,272513,272717,273137,273297,273799,274103,274826,275190,275191,275197,275248,275315,275326,275504,275660,275673,276029,276886,277063,277103,277204,277643,277727,277770,278052,278060,278106,278222,278361,278597,278865,278866,278952,279250,279402,279688,280185,281562,281568,281574,281586,281882,281922,282342,282491,282695,282722,282945,283874,283986,283987,283994,284089,284090,284930,284728,284745,284765,284176,284610,267456,267634,267687,267823,268067,268135,268331,268333,268337,268438,268614,268618,268823,269079,269137,269138,269139,269141,269142,269143,269146,269222,269223,269224,269225,269229,269237,269238,269241,269242,269243,269361,269714,269956,270045,270310,270506,270514,270562,270569,270579,270583,270706,270736,270794,270797,270865,271050,271323,271328,271454,271638,271640,271684,271722,271723,271898,271949,271950,271951,271953,271955,271956,272281,272282,272612,272675,272676,272677,272951,273012,273085,273462,273576,274141,274220,274390,274453,274576,274634,274931,274943,275023,275153,275179,275192,275194,275195,275199,275201,275224,275300,275325,275329,275383,275411,275431,275506,275820,276041,276053,276297,276337,276339,276579,276718,276910,276918,276937,277069,277271,277323,277447,277496,277646,277678,277706,277805,277874,277924,277979,278004,278008,278010,278064,278066,278067,278068,278069,278073,278137,278604,278776,278820,278857,278903,278922,279156,279160,279162,279187,279251,279298,279359,279838,279909,279910,279914,279922,279928,279930,279962,279997,280013,280054,280079,280095,280160,280168,280182,280204,280208,280209,280274,280328,280663,280822,280939,280942,281234,281313,281412,281427,281685,281977,282261,282263,282287,282314,282356,282407,282799,283020,283187,283217,283616,283822,283830,283844,283850,283897,283905,283906,283908,283909,283939,284146,284222])"
      ],
      "execution_count": null,
      "outputs": []
    },
    {
      "cell_type": "markdown",
      "metadata": {
        "id": "TvD-E66JZyh4"
      },
      "source": [
        "### 8.3 Motivo - <b>INFORMAÇÕES/COMPREENSÃO DO PRODUTO</b>\n",
        "***"
      ]
    },
    {
      "cell_type": "code",
      "metadata": {
        "id": "zAkTADGkZysk"
      },
      "source": [
        "#PreencheCampos.preenchimento('conclusao','INFORMAÇÕES/COMPREENSÃO DO PRODUTO',[290591,290515,290456,290646,290618,290516,290514,290451,290431,290322,290310,290276,290183,290171,290150,290077,290018,290008,289994,289983,289956,289909,289899,289879,289830,289751,289747,289716,289682,289583,289538,289520,289329,289286,289283,289273,289253,289061,288973,288657,288655,288645,288643,288617,288378,288025,288003,287870,287855,287446,287365,287181,286982,287121,286957,286918,286776,286330,286283,285991,286068,285607,283929,284739,284792,289424,289417,288972,288658,288630,288536,288515,288455,288457,288450,288386,288342,288271,288260,288264,288243,288246,288241,288239,288017,287997,287996,287863,287863,287776,287536,287502,287483,287477,287476,287431,287428,287363,287358,287327,287276,287267,287266,287237,287075,287073,286999,286978,286950,286942,286926,286844,286855,286821, 286798,286781,286730,286672,286603,286588,286384,286347,286335,286342,286329,286328,286315,286254,286194,286024,286007,285990,285985,285969,285936,285931,285921,285916,285859,285809,285797,285612,286384,286347,286335,286329,286315,286254,286194,286024,286007,285990,285985,285969,285936,285931,285921,285916,285859,285809,285797,285612,285595,285590,285397,285395,285368,285354,285351,285331,285246,285243,285230,285225,285215,285201,285192,285191,285188,285170,285146,285144,285131,285047,284959,284954,284933,284903,284904,284907,284920,284894,284874,284735,283019,282935,282928,282594,281461,280866,279752,279176,278915,278596,276975,275947,275585,275362,273863,271886, 271678, 271282, 270910, 270419, 270101, 268507\t,269944\t,270264\t,270712\t,270825\t,271011\t,271104\t,271280\t,271331\t,271361\t,271393\t,271604\t,271691\t,271715\t,272112\t,272580\t,272655\t,272766\t,272815\t,273770\t,274077\t,274483\t,274549\t,274939\t,275402\t,275966\t,276025\t,276052\t,276147\t,276319\t,276575\t,277048\t,277057\t,277490\t,277619\t,277794\t,278015\t,278924\t,279236\t,279293\t,279412\t,279475\t,279893\t,280164\t,280326\t,280782\t,280887\t,281579\t,281613\t,281881\t,282800\t,282927\t,283076\t,283585\t,283733\t,283826\t,284227\t,284922,284726,284622,284607,284609,267305,267352,267364,267520,267525,267635,267644,267648,267707,267709,267751,267767,267818,267859,267866,267883,267886,267991,268045,268125,268208,268219,268308,268361,268365,268369,268388,268397,268417,268420,268443,268479,268481,268490,268596,268598,268620,268747,268750,268802,268806,268812,268855,268897,268911,268912,268919,269009,269015,269021,269050,269112,269125,269145,269214,269215,269252,269256,269271,269273,269284,269289,269350,269374,269390,269402,269449,269481,269554,269571,269588,269611,269645,269655,269721,269789,269798,269818,269820,269828,269960,269962,269975,270047,270069,270070,270128,270130,270217,270261,270278,270282,270306,270313,270389,270446,270452,270475,270478,270507,270557,270575,270613,270659,270702,270704,270708,270716,270843,270871,270975,270992,270999,271065,271094,271316,271337,271369,271372,271474,271521,271534,271559,271623,271702,271709,271710,271775,271799,271834,271900,271948,272009,272108,272120,272121,272125,272133,272280,272545,272556,272641,272650,272657,272697,272703,272762,272782,272809,272941,272968,273020,273088,273133,273146,273186,273253,273307,273347,273356,273380,273389,273402,273416,273444,273448,273595,273728,273827,273944,273956,273979,273988,274015,274024,274094,274115,274139,274153,274169,274222,274241,274261,274384,274386,274413,274434,274441,274536,274547,274554,274605,274612,274629,274672,274675,274676,274684,274746,274748,274764,274796,274921,274932,274944,274947,274949,274950,274960,274970,274972,274974,275173,275298,275306,275334,275359,275371,275413,275414,275417,275423,275434,275466,275483,275531,275535,275621,275652,275672,275696,275698,275699,275709,275716,275721,275799,275802,275898,275903,276004,276028,276030,276031,276037,276076,276089,276189,276191,276194,276198,276266,276310,276314,276320,276322,276348,276459,276463,276528,276673,276740,276970,277032,277047,277050,277052,277065,277082,277092,277100,277104,277119,277120,277148,277170,277205,277278,277291,277329,277332,277362,277409,277445,277449,277480,277488,277510,277624,277669,277689,277699,277729,277786,277788,277818,277980,277999,278029,278116,278138,278178,278214,278218,278353,278359,278397,278405,278414,278427,278462,278469,278490,278525,278539,278548,278561,278569,278588,278626,278647,278651,278770,278771,278781,278795,278832,278846,278864,278928,278968,278994,279120,279121,279138,279139,279164,279168,279177,279180,279211,279212,279248,279254,279256,279258,279260,279262,279264,279268,279297,279301,279340,279429,279455,279456,279506,279519,279591,279675,279744,279880,279891,280041,280048,280086,280123,280156,280200,280315,280348,280412,280424,280458,280562,280567,280651,280738,280757,280791,280797,280851,280931,280937,280946,280957,281040,281043,281146,281521,281572,281600,281606,281609,281700,281703,281704,281711,281723,281760,281766,281774,281781,281782,281890,281893,281895,281896,281925,281926,281928,281932,281947,281990,282048,282074,282213,282220,282222,282226,282246,282268,282297,282353,282363,282379,282381,282391,282436,282437,282537,282569,282673,282677,282706,282716,282727,282739,282787,282812,282842,282845,282851,282912,282960,282967,283081,283212,283257,283317,283321,283322,283445,283453,283463,283468,283563,283570,283573,283575,283598,283612,283646,283657,283662,283709,283748,283753,283790,283907,283961,283963,283991,283999,284002,284003,284027,284034,284044,284052,284072,284095,284184,284285,284301,284348,284349,284352,284414,284449,284522,268228,284750,284776,284782,284783])"
      ],
      "execution_count": null,
      "outputs": []
    },
    {
      "cell_type": "markdown",
      "metadata": {
        "id": "Zgd9erD3e0Cd"
      },
      "source": [
        "## dados Pós tratativa\n",
        "***\n"
      ]
    },
    {
      "cell_type": "code",
      "metadata": {
        "id": "PwITQ1YHe0d_"
      },
      "source": [
        "#dados['conclusao'].value_counts()"
      ],
      "execution_count": null,
      "outputs": []
    },
    {
      "cell_type": "markdown",
      "metadata": {
        "id": "Hu2JVYe9n3Ef"
      },
      "source": [
        "# 9 Inclusão e preenchimento do campo <b>Pontos de melhoria</b> no relatório\n",
        "***\n",
        "\n",
        "Esse Tópico visa realizar uma 'quebra' no campo <b>conclusao</b> criado acima.\n",
        "\n",
        "A idea é especificar cada um dos itens mostrando o que causou sua abertura, possibilitando assim a geração de pontos de melhoria que orientem a tomada de decisão pelos gestores. \n",
        "\n",
        "Esse quebra esta sendo realizada da segunte forma: \n",
        "\n",
        "para o valor <b>INFORMAÇÕES/COMPREENSÃO DO PRODUTO</b> \n",
        "\n",
        "1.   Compreensão do produto devido a:\n",
        "\n",
        "    *   Falta de documentação disponível\n",
        "    *   Limitação de acessos\n",
        "    *   Levantamento de evidencias necessárias para continuidade \n",
        "    *   Normalização sem intervenção (pode indicar duas coisas: instabilidade sistemica ou abertura de chamado indevida)\n",
        "\n",
        "2.   solicitação de Informações devido a:\n",
        "\n",
        "    *   Defcit Tecnico (falta de funcionalidades que permitam a busca de informações ou compreensão do comportamento da aplicação)\n",
        "    *   Fluxo divergente \n",
        "    \n",
        "    \n",
        "\n",
        "\n"
      ]
    },
    {
      "cell_type": "code",
      "metadata": {
        "id": "abKkha4TnRK6"
      },
      "source": [
        "# Criação do campo\n",
        "#dados['pontos_de_melhoria'] = 0"
      ],
      "execution_count": null,
      "outputs": []
    },
    {
      "cell_type": "markdown",
      "metadata": {
        "id": "s3GH3I5OjZj5"
      },
      "source": [
        "## Dados pré tratatativa"
      ]
    },
    {
      "cell_type": "code",
      "metadata": {
        "id": "6hKDa0okjZBQ"
      },
      "source": [
        "#dados['pontos_de_melhoria'].value_counts()"
      ],
      "execution_count": null,
      "outputs": []
    },
    {
      "cell_type": "markdown",
      "metadata": {
        "id": "dEEE1zy7oVgZ"
      },
      "source": [
        "##Preenchimento\n",
        "\n",
        "***"
      ]
    },
    {
      "cell_type": "markdown",
      "metadata": {
        "id": "0eitGdbquWvf"
      },
      "source": [
        "### 9.1 <b>Falta de documentação/orientação</b>"
      ]
    },
    {
      "cell_type": "code",
      "metadata": {
        "id": "kP_zKD9SobDV"
      },
      "source": [
        "#PreencheCampos.preenchimento('pontos_de_melhoria','Falta de documentação/orientação',[284522,284609,284739,284750,284959,285047,285131,285146,285170,285188,285191,285192,285201,285215,285225,285243,285331,285612,285797,285809,285859,285936,285969,286194,287476,287483,287536,287870,287997,288003,288342,288386,288450,288457,288455,288515,288536,288630,289286,288655,288658,288972,289329,289273,289253])\n"
      ],
      "execution_count": null,
      "outputs": []
    },
    {
      "cell_type": "markdown",
      "metadata": {
        "id": "9y7C-BqTvOnK"
      },
      "source": [
        "### 9.2 <b>Acesso limitado</b>"
      ]
    },
    {
      "cell_type": "code",
      "metadata": {
        "id": "M8BlwLwAvO7Z"
      },
      "source": [
        "#PreencheCampos.preenchimento('pontos_de_melhoria','Acesso limitado',[])"
      ],
      "execution_count": null,
      "outputs": []
    },
    {
      "cell_type": "markdown",
      "metadata": {
        "id": "49RBoDVkvPUr"
      },
      "source": [
        "### 9.3 <b>Levantamento de informações necessárias para continuidade </b>"
      ]
    },
    {
      "cell_type": "code",
      "metadata": {
        "id": "4cQPKTWUvPgA"
      },
      "source": [
        "#PreencheCampos.preenchimento('pontos_de_melhoria','Levantamento de informações necessárias para continuidade',[284792,285230,285354,285931,286068,288643,288657,289417])"
      ],
      "execution_count": null,
      "outputs": []
    },
    {
      "cell_type": "markdown",
      "metadata": {
        "id": "8OLmWmQxwHwk"
      },
      "source": [
        "### 9.4 <b>Defcit Tecnico </b>"
      ]
    },
    {
      "cell_type": "code",
      "metadata": {
        "id": "-SHIyMzwwIMr"
      },
      "source": [
        "#PreencheCampos.preenchimento('pontos_de_melhoria',' Defcit Tecnico',[284352,284414,284449,284622,284776,284782,284783,284903,284904,284907,284920,284933,284954,285144,285246,285368,285395,285607,285985,285990,287428,287477,287870,287997,288017,288271,288264,288260,288246,288243,288241,288239,288025,288378,288645,288973,289424,289283])"
      ],
      "execution_count": null,
      "outputs": []
    },
    {
      "cell_type": "markdown",
      "metadata": {
        "id": "KoYi6NipwKAd"
      },
      "source": [
        "### 9.5 <b>Fluxo divergente </b>"
      ]
    },
    {
      "cell_type": "code",
      "metadata": {
        "id": "BwrGE_dp5VJM"
      },
      "source": [
        "#PreencheCampos.preenchimento('pontos_de_melhoria',' Fluxo divergente',[284922,285590,287776,289061])"
      ],
      "execution_count": null,
      "outputs": []
    },
    {
      "cell_type": "markdown",
      "metadata": {
        "id": "SIePjT96-nTG"
      },
      "source": [
        "### 9.6 <b>Normalização sem intervenção </b>"
      ]
    },
    {
      "cell_type": "code",
      "metadata": {
        "id": "V-cEA4uiwKWe"
      },
      "source": [
        "#PreencheCampos.preenchimento('pontos_de_melhoria',' Normalização sem intervenção',[284726,284735,284874,284894,285351,285397,285595,285916,285921,285991,286007,286024,287431,287446,287502,287996,288617])"
      ],
      "execution_count": null,
      "outputs": []
    },
    {
      "cell_type": "markdown",
      "metadata": {
        "id": "7sCnGobw0gRf"
      },
      "source": [
        "# 10 Exportação dos dados tratados \n",
        "***\n",
        "\n",
        "Após finalizarmos toda tratativa do dataset, é necessário exportar os dados para que sejam utilizados no DataStudio na geração dos dashboards. \n",
        "\n",
        "tarefa realizada neste tópico."
      ]
    },
    {
      "cell_type": "code",
      "metadata": {
        "id": "z-ABe9HxnZSH"
      },
      "source": [
        "#exporta os dados após a tratativa\n",
        "\n",
        "#dados.to_csv('/content/drive/MyDrive/Data_Science/Dataset_baseMiddleware/base_middleware_tratado.csv', index = False)"
      ],
      "execution_count": null,
      "outputs": []
    }
  ]
}
